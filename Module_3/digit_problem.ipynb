{
 "cells": [
  {
   "cell_type": "code",
   "execution_count": null,
   "id": "28bcf71e",
   "metadata": {},
   "outputs": [
    {
     "name": "stdout",
     "output_type": "stream",
     "text": [
      "0 2 1 1 \n"
     ]
    }
   ],
   "source": [
    "t=int(input())\n",
    "\n",
    "\n",
    "for i in range(t):\n",
    "    n=int(input())\n",
    "    if n==0:\n",
    "        print(\"0\")\n",
    "        continue\n",
    "    while n>0:\n",
    "        digit=n%10\n",
    "        print(digit,end=\" \")\n",
    "        n=n//10\n",
    "    print()    "
   ]
  }
 ],
 "metadata": {
  "kernelspec": {
   "display_name": "Python 3",
   "language": "python",
   "name": "python3"
  },
  "language_info": {
   "codemirror_mode": {
    "name": "ipython",
    "version": 3
   },
   "file_extension": ".py",
   "mimetype": "text/x-python",
   "name": "python",
   "nbconvert_exporter": "python",
   "pygments_lexer": "ipython3",
   "version": "3.13.7"
  }
 },
 "nbformat": 4,
 "nbformat_minor": 5
}

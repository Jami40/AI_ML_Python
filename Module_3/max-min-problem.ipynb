{
 "cells": [
  {
   "cell_type": "code",
   "execution_count": 3,
   "id": "db8f1a3f",
   "metadata": {},
   "outputs": [
    {
     "name": "stdout",
     "output_type": "stream",
     "text": [
      "1 4\n"
     ]
    }
   ],
   "source": [
    "inp=input()\n",
    "\n",
    "number=inp.split()\n",
    "\n",
    "\n",
    "x=int(number[0])\n",
    "y=int(number[1])\n",
    "z=int(number[2])\n",
    "\n",
    "\n",
    "max=x\n",
    "min=x\n",
    "\n",
    "\n",
    "#MINIMUM\n",
    "if y<min:\n",
    "    min=y \n",
    "if z<min:\n",
    "    min=z\n",
    "\n",
    "#MAXIMUM        \n",
    "\n",
    "if y>max:\n",
    "    max=y \n",
    "if z>max:\n",
    "    max=z \n",
    "\n",
    "print(min , max)\n",
    "# print(\"Maximum:\",max)\n",
    "\n",
    "# print(\"Minimum:\",min)"
   ]
  }
 ],
 "metadata": {
  "kernelspec": {
   "display_name": "Python 3",
   "language": "python",
   "name": "python3"
  },
  "language_info": {
   "codemirror_mode": {
    "name": "ipython",
    "version": 3
   },
   "file_extension": ".py",
   "mimetype": "text/x-python",
   "name": "python",
   "nbconvert_exporter": "python",
   "pygments_lexer": "ipython3",
   "version": "3.13.7"
  }
 },
 "nbformat": 4,
 "nbformat_minor": 5
}

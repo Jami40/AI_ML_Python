{
 "cells": [
  {
   "cell_type": "code",
   "execution_count": 2,
   "id": "720b5c23",
   "metadata": {},
   "outputs": [
    {
     "name": "stdout",
     "output_type": "stream",
     "text": [
      "It's not raining, enjoy your day!\n"
     ]
    }
   ],
   "source": [
    "raining=False\n",
    "\n",
    "if raining==True:\n",
    "    print(\"It's raining, take an umbrella!\")\n",
    "else:\n",
    "    print(\"It's not raining, enjoy your day!\")    "
   ]
  },
  {
   "cell_type": "code",
   "execution_count": 5,
   "id": "6f9c082a",
   "metadata": {},
   "outputs": [
    {
     "name": "stdout",
     "output_type": "stream",
     "text": [
      "I will stay at home\n"
     ]
    }
   ],
   "source": [
    "taka=200\n",
    "\n",
    "if(taka>=500):\n",
    "    print(\"I will go to the market\")\n",
    "elif(taka>=300):\n",
    "    print(\"I will go to the park\")    \n",
    "else:\n",
    "    print(\"I will stay at home\")"
   ]
  }
 ],
 "metadata": {
  "kernelspec": {
   "display_name": "Python 3",
   "language": "python",
   "name": "python3"
  },
  "language_info": {
   "codemirror_mode": {
    "name": "ipython",
    "version": 3
   },
   "file_extension": ".py",
   "mimetype": "text/x-python",
   "name": "python",
   "nbconvert_exporter": "python",
   "pygments_lexer": "ipython3",
   "version": "3.13.7"
  }
 },
 "nbformat": 4,
 "nbformat_minor": 5
}

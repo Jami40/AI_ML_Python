{
 "cells": [
  {
   "cell_type": "code",
   "execution_count": 5,
   "id": "2909cb53",
   "metadata": {},
   "outputs": [
    {
     "name": "stdout",
     "output_type": "stream",
     "text": [
      "1\n",
      "3\n",
      "5\n",
      "7\n",
      "9\n",
      "11\n",
      "13\n",
      "15\n",
      "17\n",
      "19\n",
      "21\n",
      "23\n",
      "25\n",
      "27\n",
      "29\n",
      "225\n"
     ]
    }
   ],
   "source": [
    "value=0\n",
    "\n",
    "\n",
    "for i in range(1,30):\n",
    "    \n",
    "    if i%2==0:\n",
    "        continue\n",
    "    print(i)\n",
    "    value+=i\n",
    "print(value)    "
   ]
  },
  {
   "cell_type": "code",
   "execution_count": 6,
   "id": "ee716efc",
   "metadata": {},
   "outputs": [
    {
     "name": "stdout",
     "output_type": "stream",
     "text": [
      "91\n",
      "92\n",
      "93\n",
      "94\n",
      "95\n",
      "96\n",
      "97\n",
      "98\n",
      "99\n",
      "100\n",
      "101\n"
     ]
    }
   ],
   "source": [
    "raining=True\n",
    "\n",
    "hero=90\n",
    "\n",
    "while True:\n",
    "    if hero>100:\n",
    "        break\n",
    "    hero+=1\n",
    "    print(hero)\n",
    "    "
   ]
  }
 ],
 "metadata": {
  "kernelspec": {
   "display_name": "Python 3",
   "language": "python",
   "name": "python3"
  },
  "language_info": {
   "codemirror_mode": {
    "name": "ipython",
    "version": 3
   },
   "file_extension": ".py",
   "mimetype": "text/x-python",
   "name": "python",
   "nbconvert_exporter": "python",
   "pygments_lexer": "ipython3",
   "version": "3.13.7"
  }
 },
 "nbformat": 4,
 "nbformat_minor": 5
}

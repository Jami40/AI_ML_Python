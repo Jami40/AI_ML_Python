{
 "cells": [
  {
   "cell_type": "code",
   "execution_count": null,
   "id": "bd2b6900",
   "metadata": {},
   "outputs": [
    {
     "name": "stdout",
     "output_type": "stream",
     "text": [
      "['-5', '0', '-3', '-4', '12']\n",
      "Even: 3\n",
      "Odd: 2\n",
      "Positive: 1\n",
      "Negative: 3\n"
     ]
    }
   ],
   "source": [
    "n=int(input())\n",
    "\n",
    "inp=input().split()\n",
    "\n",
    "\n",
    "positive=0;negative=0;even=0;odd=0\n",
    "\n",
    "for i in range(n):\n",
    "    x=int(inp[i])\n",
    "\n",
    "    if x>0:\n",
    "        positive+=1\n",
    "    elif x<0:\n",
    "        negative+=1\n",
    "    if x%2==0:\n",
    "        even+=1\n",
    "    else:\n",
    "        odd+=1\n",
    "print(\"Even:\",even)\n",
    "print(\"Odd:\",odd)\n",
    "print(\"Positive:\",positive)\n",
    "print(\"Negative:\",negative)\n"
   ]
  }
 ],
 "metadata": {
  "kernelspec": {
   "display_name": "Python 3",
   "language": "python",
   "name": "python3"
  },
  "language_info": {
   "codemirror_mode": {
    "name": "ipython",
    "version": 3
   },
   "file_extension": ".py",
   "mimetype": "text/x-python",
   "name": "python",
   "nbconvert_exporter": "python",
   "pygments_lexer": "ipython3",
   "version": "3.13.7"
  }
 },
 "nbformat": 4,
 "nbformat_minor": 5
}

{
 "cells": [
  {
   "cell_type": "code",
   "execution_count": 1,
   "id": "99516129",
   "metadata": {},
   "outputs": [
    {
     "name": "stdout",
     "output_type": "stream",
     "text": [
      "Hello Jami\n"
     ]
    }
   ],
   "source": [
    "name=input(\"What is your name? \")\n",
    "\n",
    "\n",
    "print(\"Hello\",name)"
   ]
  },
  {
   "cell_type": "code",
   "execution_count": 3,
   "id": "61431792",
   "metadata": {},
   "outputs": [
    {
     "name": "stdout",
     "output_type": "stream",
     "text": [
      "You are 23 years old <class 'int'>\n"
     ]
    }
   ],
   "source": [
    "age=input(\"What is your age? \")\n",
    "\n",
    "age=int(age)\n",
    "\n",
    "\n",
    "print(\"You are\",age,\"years old\",type(age))"
   ]
  },
  {
   "cell_type": "code",
   "execution_count": 6,
   "id": "16019512",
   "metadata": {},
   "outputs": [
    {
     "name": "stdout",
     "output_type": "stream",
     "text": [
      "You are 6.1000000000000005 feet tall <class 'float'>\n"
     ]
    }
   ],
   "source": [
    "height=float(input(\"What is your height? \"))\n",
    "\n",
    "height=height+0.4\n",
    "\n",
    "\n",
    "print(\"You are\",height,\"feet tall\",type(height))"
   ]
  }
 ],
 "metadata": {
  "kernelspec": {
   "display_name": "Python 3",
   "language": "python",
   "name": "python3"
  },
  "language_info": {
   "codemirror_mode": {
    "name": "ipython",
    "version": 3
   },
   "file_extension": ".py",
   "mimetype": "text/x-python",
   "name": "python",
   "nbconvert_exporter": "python",
   "pygments_lexer": "ipython3",
   "version": "3.13.7"
  }
 },
 "nbformat": 4,
 "nbformat_minor": 5
}

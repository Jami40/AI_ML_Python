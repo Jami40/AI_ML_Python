{
 "cells": [
  {
   "cell_type": "code",
   "execution_count": null,
   "id": "a5eca08a",
   "metadata": {},
   "outputs": [
    {
     "name": "stdout",
     "output_type": "stream",
     "text": [
      "['12', '13']\n",
      "5\n"
     ]
    }
   ],
   "source": [
    "inp=input()\n",
    "\n",
    "numbers=inp.split()\n",
    "\n",
    "\n",
    "x=int(numbers[0])\n",
    "y=int(numbers[1])\n",
    "\n",
    "last_digit_of_x=x%10\n",
    "last_digit_of_y=y%10\n",
    "\n",
    "\n",
    "sum=last_digit_of_x+last_digit_of_y\n",
    "\n",
    "\n",
    "print(sum)"
   ]
  }
 ],
 "metadata": {
  "kernelspec": {
   "display_name": "Python 3",
   "language": "python",
   "name": "python3"
  },
  "language_info": {
   "codemirror_mode": {
    "name": "ipython",
    "version": 3
   },
   "file_extension": ".py",
   "mimetype": "text/x-python",
   "name": "python",
   "nbconvert_exporter": "python",
   "pygments_lexer": "ipython3",
   "version": "3.13.7"
  }
 },
 "nbformat": 4,
 "nbformat_minor": 5
}

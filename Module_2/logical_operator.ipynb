{
 "cells": [
  {
   "cell_type": "markdown",
   "id": "c6315607",
   "metadata": {},
   "source": [
    "##Logical Operator\n"
   ]
  },
  {
   "cell_type": "code",
   "execution_count": 3,
   "id": "62a1d338",
   "metadata": {},
   "outputs": [
    {
     "name": "stdout",
     "output_type": "stream",
     "text": [
      "True\n"
     ]
    }
   ],
   "source": [
    "x=10;y=5;z=3\n",
    "\n",
    "logical_and=(x<y) or (x>z)\n",
    "\n",
    "print(logical_and)"
   ]
  }
 ],
 "metadata": {
  "kernelspec": {
   "display_name": "Python 3",
   "language": "python",
   "name": "python3"
  },
  "language_info": {
   "codemirror_mode": {
    "name": "ipython",
    "version": 3
   },
   "file_extension": ".py",
   "mimetype": "text/x-python",
   "name": "python",
   "nbconvert_exporter": "python",
   "pygments_lexer": "ipython3",
   "version": "3.13.7"
  }
 },
 "nbformat": 4,
 "nbformat_minor": 5
}

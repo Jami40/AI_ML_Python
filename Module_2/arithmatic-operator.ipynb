{
 "cells": [
  {
   "cell_type": "code",
   "execution_count": 4,
   "id": "32c589a5",
   "metadata": {},
   "outputs": [
    {
     "name": "stdout",
     "output_type": "stream",
     "text": [
      "Sum: 13 Sub: 7 Mul: 30 Div: 3.33 Mod: 1\n"
     ]
    }
   ],
   "source": [
    "x=10\n",
    "y=3\n",
    "\n",
    "sum=x+y\n",
    "sub=x-y\n",
    "\n",
    "mul=x*y\n",
    "\n",
    "div=round(x/y,2)\n",
    "\n",
    "mod=x%y\n",
    "\n",
    "print(\"Sum:\",sum,\"Sub:\",sub,\"Mul:\",mul,\"Div:\",div,\"Mod:\",mod)"
   ]
  }
 ],
 "metadata": {
  "kernelspec": {
   "display_name": "Python 3",
   "language": "python",
   "name": "python3"
  },
  "language_info": {
   "codemirror_mode": {
    "name": "ipython",
    "version": 3
   },
   "file_extension": ".py",
   "mimetype": "text/x-python",
   "name": "python",
   "nbconvert_exporter": "python",
   "pygments_lexer": "ipython3",
   "version": "3.13.7"
  }
 },
 "nbformat": 4,
 "nbformat_minor": 5
}

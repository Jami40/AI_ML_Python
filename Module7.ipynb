{
  "cells": [
    {
      "cell_type": "code",
      "execution_count": 1,
      "metadata": {
        "colab": {
          "base_uri": "https://localhost:8080/"
        },
        "id": "yXz_YxVY5lbJ",
        "outputId": "29b6e1dc-efc4-40fc-ec3d-afe55cb11919"
      },
      "outputs": [
        {
          "name": "stdout",
          "output_type": "stream",
          "text": [
            "['Hello World']\n"
          ]
        }
      ],
      "source": [
        "file=open(\"./sample_data/sample.txt\",\"r\")\n",
        "content=file.readlines()\n",
        "\n",
        "print(content)"
      ]
    },
    {
      "cell_type": "code",
      "execution_count": 2,
      "metadata": {
        "colab": {
          "base_uri": "https://localhost:8080/"
        },
        "id": "_uit44d846Ie",
        "outputId": "5fa57e17-71f4-4f61-93fc-fb3e0f81b394"
      },
      "outputs": [
        {
          "name": "stdout",
          "output_type": "stream",
          "text": [
            "Hello World\n",
            "True\n"
          ]
        }
      ],
      "source": [
        "file=open(\"./sample_data/sample.txt\",\"r\")\n",
        "content=file.read()\n",
        "\n",
        "print(content)\n",
        "\n",
        "\n",
        "file.close()\n",
        "print(file.closed)"
      ]
    },
    {
      "cell_type": "code",
      "execution_count": 3,
      "metadata": {
        "colab": {
          "base_uri": "https://localhost:8080/"
        },
        "id": "ImqkitKO7y9z",
        "outputId": "fbd8e156-0ec8-49d3-a5e3-5b0d8a829e5c"
      },
      "outputs": [
        {
          "name": "stdout",
          "output_type": "stream",
          "text": [
            "Hello World\n"
          ]
        }
      ],
      "source": [
        "with open(\"./sample_data/sample.txt\",\"r\") as file:\n",
        "  for line in file:\n",
        "    # print(line,end=\"\")\n",
        "    l=line.strip()\n",
        "    print(l)\n"
      ]
    },
    {
      "cell_type": "code",
      "execution_count": 4,
      "metadata": {
        "id": "p4iqC0N18F4g"
      },
      "outputs": [],
      "source": [
        "#Creating a new file\n",
        "with open(\"./sample_data/test.txt\",\"w\") as file:\n",
        "  file.write(\"Hello Jami\\n\")\n",
        "  file.write(\"How is ur time going\")"
      ]
    },
    {
      "cell_type": "code",
      "execution_count": 5,
      "metadata": {
        "id": "9E73F9jHfw5M"
      },
      "outputs": [],
      "source": [
        "# Overwrite on a existing file\n",
        "with open(\"./sample_data/test.txt\",\"w\") as file:\n",
        "  file.write(\"File writtting overwrite on a existing file\\n\")\n",
        "  file.write(\"How is ur time going\\n\")"
      ]
    },
    {
      "cell_type": "code",
      "execution_count": 6,
      "metadata": {
        "id": "Np_fiifigda9"
      },
      "outputs": [],
      "source": [
        "# WE don't overwrite we want to add so append for this\n",
        "\n",
        "with open(\"./sample_data/test.txt\",\"a\") as file:\n",
        "  file.write(\"New Line added\\n\")\n",
        "  file.write(\"How is ur time going\")"
      ]
    },
    {
      "cell_type": "code",
      "execution_count": 7,
      "metadata": {
        "id": "cNovEl1Jg7Br"
      },
      "outputs": [],
      "source": [
        "strings=[\"hello\",\"goo\",\"school\"]\n",
        "with open(\"./sample_data/test2.txt\",\"a\") as file:\n",
        "  file.writelines(strings)"
      ]
    },
    {
      "cell_type": "code",
      "execution_count": 8,
      "metadata": {
        "colab": {
          "base_uri": "https://localhost:8080/"
        },
        "id": "fnFDnCfNiKaV",
        "outputId": "04667775-7cfa-403a-965e-c570115e5c2d"
      },
      "outputs": [
        {
          "name": "stdout",
          "output_type": "stream",
          "text": [
            "0\n",
            "Hello World\n",
            "11\n",
            "\n"
          ]
        }
      ],
      "source": [
        "with open(\"./sample_data/sample.txt\",\"r\") as file:\n",
        "  print(file.tell())\n",
        "  print(file.read())\n",
        "  print(file.tell())\n",
        "  print(file.read())\n"
      ]
    },
    {
      "cell_type": "code",
      "execution_count": 9,
      "metadata": {
        "colab": {
          "base_uri": "https://localhost:8080/"
        },
        "id": "3jEt6k5GjeCq",
        "outputId": "8ee00f7a-3deb-4bb2-d6b3-09fbe0d11985"
      },
      "outputs": [
        {
          "name": "stdout",
          "output_type": "stream",
          "text": [
            "0\n",
            "Hello\n",
            "5\n",
            " World\n",
            "11\n"
          ]
        }
      ],
      "source": [
        "#File read function\n",
        "with open(\"./sample_data/sample.txt\",\"r\") as file:\n",
        "  print(file.tell())\n",
        "  print(file.read(5))\n",
        "  print(file.tell())\n",
        "  print(file.read())\n",
        "  print(file.tell())"
      ]
    },
    {
      "cell_type": "code",
      "execution_count": 10,
      "metadata": {
        "colab": {
          "base_uri": "https://localhost:8080/"
        },
        "id": "AkC0kF1ukpjA",
        "outputId": "414cf4cf-04dc-4e45-b74f-3a2ee1a841aa"
      },
      "outputs": [
        {
          "name": "stdout",
          "output_type": "stream",
          "text": [
            "0\n",
            "0\n",
            "Hello\n",
            "5\n",
            "0\n",
            "Hello World\n"
          ]
        }
      ],
      "source": [
        "#Seek function\n",
        "with open(\"./sample_data/sample.txt\",\"r\") as file:\n",
        "  print(file.tell())\n",
        "  print(file.tell())\n",
        "  print(file.read(5))\n",
        "  print(file.tell())\n",
        "  file.seek(0)\n",
        "  print(file.tell())\n",
        "  print(file.read())\n",
        "\n"
      ]
    },
    {
      "cell_type": "markdown",
      "metadata": {
        "id": "rmSEEQJ-mKCX"
      },
      "source": [
        "Practice 1 :\n",
        "Get the text from sample.txt , and count the following\n",
        "\n",
        "Number of lines\n",
        "\n",
        "Number of words\n",
        "\n",
        "Number of characters\n",
        "\n",
        "and save it to the counter_of_string.txt file"
      ]
    },
    {
      "cell_type": "code",
      "execution_count": 29,
      "metadata": {
        "colab": {
          "base_uri": "https://localhost:8080/"
        },
        "id": "-Y5JE-7UmLoG",
        "outputId": "328473fd-f521-4ef5-b6d6-76e110488a74"
      },
      "outputs": [
        {
          "name": "stdout",
          "output_type": "stream",
          "text": [
            "4\n",
            "[2, 4, 8, 4] 18\n",
            "['Hello World', 'Welcome to the world', 'its the era Its lies betwwen two tample', 'How was the day?']\n",
            "['HelloWorld', 'Welcometotheworld', 'itstheeraItsliesbetwwentwotample', 'Howwastheday?']\n",
            "[10, 17, 32, 13]\n",
            "72\n"
          ]
        }
      ],
      "source": [
        "from functools import reduce\n",
        "with open(\"./sample_data/saample.txt\",\"r\") as file:\n",
        "  #File read\n",
        "  # string=file.read()\n",
        "  # print(string)\n",
        "  #File line count\n",
        "  line=file.readlines()\n",
        "  print(len(line))\n",
        "\n",
        "  #Number of words\n",
        "\n",
        "  number_of_words=list(map(lambda x:len(x.split()),line))\n",
        "  sum=reduce(lambda a,b:a+b,number_of_words)\n",
        "  print(number_of_words,sum)\n",
        "\n",
        "  #clean process\n",
        "\n",
        "  #1.new line delete through strip\n",
        "\n",
        "  clean_line=list(map(str.strip,line))\n",
        "  print(clean_line)\n",
        "\n",
        "  #2 space delete\n",
        "\n",
        "  space_deleted=list(map(lambda x : x.replace(\" \",\"\"),clean_line))\n",
        "  print(space_deleted)\n",
        "\n",
        "  #3 sum of all character\n",
        "\n",
        "  number_of_character=list(map(lambda x : len(x),space_deleted))\n",
        "  print(number_of_character)\n",
        "\n",
        "  character_sum=reduce(lambda a,b:a+b,number_of_character)\n",
        "  print(character_sum)\n",
        "\n",
        "\n",
        "\n",
        "\n",
        "\n"
      ]
    },
    {
      "cell_type": "code",
      "execution_count": 30,
      "metadata": {
        "id": "Daf5cc-fmzjB"
      },
      "outputs": [],
      "source": [
        "# save all in a different file\n",
        "with open(\"./sample_data/counter_of_string.txt\",\"w\") as file:\n",
        "  file.write(f\"Number of lines : {len(line)}\\n\")\n",
        "  file.write(f\"Number of words : {sum}\\n\")\n",
        "  file.write(f\"Number of characters : {character_sum}\\n\")\n"
      ]
    },
    {
      "cell_type": "code",
      "execution_count": 34,
      "metadata": {
        "colab": {
          "base_uri": "https://localhost:8080/"
        },
        "id": "BbUQpgWftaUW",
        "outputId": "bd72a4cc-a196-40d3-b5f6-0bc30c8e3270"
      },
      "outputs": [
        {
          "name": "stdout",
          "output_type": "stream",
          "text": [
            "11\n",
            "Hello\n",
            "5\n",
            " World\n"
          ]
        }
      ],
      "source": [
        "#w + holo read plus write kore\n",
        "\n",
        "with open(\"./sample_data/read_write.txt\",\"w+\") as file:\n",
        "  file.write(\"Hello World\")\n",
        "  print(file.tell())\n",
        "  file.read()\n",
        "  file.seek(0)\n",
        "  print(file.read(5))\n",
        "  print(file.tell())\n",
        "\n",
        "  #to delete from a position we use file-trancate\n",
        "\n",
        "  file.truncate(5)\n",
        "  print(file.read())\n"
      ]
    },
    {
      "cell_type": "markdown",
      "metadata": {
        "id": "NAp2XeaNx7lv"
      },
      "source": [
        "Exception is an error that occurs on runtime"
      ]
    },
    {
      "cell_type": "code",
      "execution_count": 1,
      "metadata": {
        "colab": {
          "base_uri": "https://localhost:8080/"
        },
        "id": "SnQ2RZHOwuVC",
        "outputId": "0b670bae-711a-4489-c9b3-5fae8c4979a1"
      },
      "outputs": [
        {
          "name": "stdout",
          "output_type": "stream",
          "text": [
            "name 'y' is not defined\n",
            "Hello World\n"
          ]
        }
      ],
      "source": [
        "#Exception handling\n",
        "try:\n",
        "  x=y\n",
        "except Exception as e:\n",
        "  print(e)\n",
        "\n",
        "\n",
        "print(\"Hello World\")"
      ]
    },
    {
      "cell_type": "code",
      "execution_count": 1,
      "metadata": {
        "colab": {
          "base_uri": "https://localhost:8080/"
        },
        "id": "YyOVc7-tZTA5",
        "outputId": "cccbaabc-d28a-4b9a-9e0a-59c38b0b4edc"
      },
      "outputs": [
        {
          "name": "stdout",
          "output_type": "stream",
          "text": [
            "[Errno 2] No such file or directory: './sample_data/data1.txt'\n",
            "Model stopped\n"
          ]
        }
      ],
      "source": [
        "#exception handling\n",
        "\n",
        "try:\n",
        "  file= open(\"./sample_data/data1.txt\",\"r\")\n",
        "\n",
        "except Exception as e:\n",
        "  print(e)\n",
        "else:\n",
        "  print(file.read())\n",
        "finally:\n",
        "  print(\"Model stopped\")"
      ]
    },
    {
      "cell_type": "code",
      "execution_count": null,
      "metadata": {
        "id": "CugBnOkVaNJG"
      },
      "outputs": [],
      "source": []
    }
  ],
  "metadata": {
    "colab": {
      "provenance": []
    },
    "kernelspec": {
      "display_name": "base",
      "language": "python",
      "name": "python3"
    },
    "language_info": {
      "codemirror_mode": {
        "name": "ipython",
        "version": 3
      },
      "file_extension": ".py",
      "mimetype": "text/x-python",
      "name": "python",
      "nbconvert_exporter": "python",
      "pygments_lexer": "ipython3",
      "version": "3.13.5"
    }
  },
  "nbformat": 4,
  "nbformat_minor": 0
}

{
  "nbformat": 4,
  "nbformat_minor": 0,
  "metadata": {
    "colab": {
      "provenance": []
    },
    "kernelspec": {
      "name": "python3",
      "display_name": "Python 3"
    },
    "language_info": {
      "name": "python"
    }
  },
  "cells": [
    {
      "cell_type": "code",
      "source": [
        "file=open(\"./sample_data/sample.txt\",\"r\")\n",
        "content=file.readlines()\n",
        "\n",
        "print(content)"
      ],
      "metadata": {
        "colab": {
          "base_uri": "https://localhost:8080/"
        },
        "id": "yXz_YxVY5lbJ",
        "outputId": "29b6e1dc-efc4-40fc-ec3d-afe55cb11919"
      },
      "execution_count": 1,
      "outputs": [
        {
          "output_type": "stream",
          "name": "stdout",
          "text": [
            "['Hello World']\n"
          ]
        }
      ]
    },
    {
      "cell_type": "code",
      "execution_count": 2,
      "metadata": {
        "colab": {
          "base_uri": "https://localhost:8080/"
        },
        "id": "_uit44d846Ie",
        "outputId": "5fa57e17-71f4-4f61-93fc-fb3e0f81b394"
      },
      "outputs": [
        {
          "output_type": "stream",
          "name": "stdout",
          "text": [
            "Hello World\n",
            "True\n"
          ]
        }
      ],
      "source": [
        "file=open(\"./sample_data/sample.txt\",\"r\")\n",
        "content=file.read()\n",
        "\n",
        "print(content)\n",
        "\n",
        "\n",
        "file.close()\n",
        "print(file.closed)"
      ]
    },
    {
      "cell_type": "code",
      "source": [
        "with open(\"./sample_data/sample.txt\",\"r\") as file:\n",
        "  for line in file:\n",
        "    # print(line,end=\"\")\n",
        "    l=line.strip()\n",
        "    print(l)\n"
      ],
      "metadata": {
        "colab": {
          "base_uri": "https://localhost:8080/"
        },
        "id": "ImqkitKO7y9z",
        "outputId": "fbd8e156-0ec8-49d3-a5e3-5b0d8a829e5c"
      },
      "execution_count": 3,
      "outputs": [
        {
          "output_type": "stream",
          "name": "stdout",
          "text": [
            "Hello World\n"
          ]
        }
      ]
    },
    {
      "cell_type": "code",
      "source": [
        "#Creating a new file\n",
        "with open(\"./sample_data/test.txt\",\"w\") as file:\n",
        "  file.write(\"Hello Jami\\n\")\n",
        "  file.write(\"How is ur time going\")"
      ],
      "metadata": {
        "id": "p4iqC0N18F4g"
      },
      "execution_count": 4,
      "outputs": []
    },
    {
      "cell_type": "code",
      "source": [
        "# Overwrite on a existing file\n",
        "with open(\"./sample_data/test.txt\",\"w\") as file:\n",
        "  file.write(\"File writtting overwrite on a existing file\\n\")\n",
        "  file.write(\"How is ur time going\\n\")"
      ],
      "metadata": {
        "id": "9E73F9jHfw5M"
      },
      "execution_count": 5,
      "outputs": []
    },
    {
      "cell_type": "code",
      "source": [
        "# WE don't overwrite we want to add so append for this\n",
        "\n",
        "with open(\"./sample_data/test.txt\",\"a\") as file:\n",
        "  file.write(\"New Line added\\n\")\n",
        "  file.write(\"How is ur time going\")"
      ],
      "metadata": {
        "id": "Np_fiifigda9"
      },
      "execution_count": 6,
      "outputs": []
    },
    {
      "cell_type": "code",
      "source": [
        "strings=[\"hello\",\"goo\",\"school\"]\n",
        "with open(\"./sample_data/test2.txt\",\"a\") as file:\n",
        "  file.writelines(strings)"
      ],
      "metadata": {
        "id": "cNovEl1Jg7Br"
      },
      "execution_count": 7,
      "outputs": []
    },
    {
      "cell_type": "code",
      "source": [
        "with open(\"./sample_data/sample.txt\",\"r\") as file:\n",
        "  print(file.tell())\n",
        "  print(file.read())\n",
        "  print(file.tell())\n",
        "  print(file.read())\n"
      ],
      "metadata": {
        "colab": {
          "base_uri": "https://localhost:8080/"
        },
        "id": "fnFDnCfNiKaV",
        "outputId": "04667775-7cfa-403a-965e-c570115e5c2d"
      },
      "execution_count": 8,
      "outputs": [
        {
          "output_type": "stream",
          "name": "stdout",
          "text": [
            "0\n",
            "Hello World\n",
            "11\n",
            "\n"
          ]
        }
      ]
    },
    {
      "cell_type": "code",
      "source": [
        "#File read function\n",
        "with open(\"./sample_data/sample.txt\",\"r\") as file:\n",
        "  print(file.tell())\n",
        "  print(file.read(5))\n",
        "  print(file.tell())\n",
        "  print(file.read())\n",
        "  print(file.tell())"
      ],
      "metadata": {
        "colab": {
          "base_uri": "https://localhost:8080/"
        },
        "id": "3jEt6k5GjeCq",
        "outputId": "8ee00f7a-3deb-4bb2-d6b3-09fbe0d11985"
      },
      "execution_count": 9,
      "outputs": [
        {
          "output_type": "stream",
          "name": "stdout",
          "text": [
            "0\n",
            "Hello\n",
            "5\n",
            " World\n",
            "11\n"
          ]
        }
      ]
    },
    {
      "cell_type": "code",
      "source": [
        "#Seek function\n",
        "with open(\"./sample_data/sample.txt\",\"r\") as file:\n",
        "  print(file.tell())\n",
        "  print(file.tell())\n",
        "  print(file.read(5))\n",
        "  print(file.tell())\n",
        "  file.seek(0)\n",
        "  print(file.tell())\n",
        "  print(file.read())\n",
        "\n"
      ],
      "metadata": {
        "colab": {
          "base_uri": "https://localhost:8080/"
        },
        "id": "AkC0kF1ukpjA",
        "outputId": "414cf4cf-04dc-4e45-b74f-3a2ee1a841aa"
      },
      "execution_count": 10,
      "outputs": [
        {
          "output_type": "stream",
          "name": "stdout",
          "text": [
            "0\n",
            "0\n",
            "Hello\n",
            "5\n",
            "0\n",
            "Hello World\n"
          ]
        }
      ]
    },
    {
      "cell_type": "markdown",
      "source": [
        "Practice 1 :\n",
        "Get the text from sample.txt , and count the following\n",
        "\n",
        "Number of lines\n",
        "\n",
        "Number of words\n",
        "\n",
        "Number of characters\n",
        "\n",
        "and save it to the counter_of_string.txt file"
      ],
      "metadata": {
        "id": "rmSEEQJ-mKCX"
      }
    },
    {
      "cell_type": "code",
      "source": [
        "from functools import reduce\n",
        "with open(\"./sample_data/saample.txt\",\"r\") as file:\n",
        "  #File read\n",
        "  # string=file.read()\n",
        "  # print(string)\n",
        "  #File line count\n",
        "  line=file.readlines()\n",
        "  print(len(line))\n",
        "\n",
        "  #Number of words\n",
        "\n",
        "  number_of_words=list(map(lambda x:len(x.split()),line))\n",
        "  sum=reduce(lambda a,b:a+b,number_of_words)\n",
        "  print(number_of_words,sum)\n",
        "\n",
        "  #clean process\n",
        "\n",
        "  #1.new line delete through strip\n",
        "\n",
        "  clean_line=list(map(str.strip,line))\n",
        "  print(clean_line)\n",
        "\n",
        "  #2 space delete\n",
        "\n",
        "  space_deleted=list(map(lambda x : x.replace(\" \",\"\"),clean_line))\n",
        "  print(space_deleted)\n",
        "\n",
        "  #3 sum of all character\n",
        "\n",
        "  number_of_character=list(map(lambda x : len(x),space_deleted))\n",
        "  print(number_of_character)\n",
        "\n",
        "  character_sum=reduce(lambda a,b:a+b,number_of_character)\n",
        "  print(character_sum)\n",
        "\n",
        "\n",
        "\n",
        "\n",
        "\n",
        ""
      ],
      "metadata": {
        "colab": {
          "base_uri": "https://localhost:8080/"
        },
        "id": "-Y5JE-7UmLoG",
        "outputId": "328473fd-f521-4ef5-b6d6-76e110488a74"
      },
      "execution_count": 29,
      "outputs": [
        {
          "output_type": "stream",
          "name": "stdout",
          "text": [
            "4\n",
            "[2, 4, 8, 4] 18\n",
            "['Hello World', 'Welcome to the world', 'its the era Its lies betwwen two tample', 'How was the day?']\n",
            "['HelloWorld', 'Welcometotheworld', 'itstheeraItsliesbetwwentwotample', 'Howwastheday?']\n",
            "[10, 17, 32, 13]\n",
            "72\n"
          ]
        }
      ]
    },
    {
      "cell_type": "code",
      "source": [
        "# save all in a different file\n",
        "with open(\"./sample_data/counter_of_string.txt\",\"w\") as file:\n",
        "  file.write(f\"Number of lines : {len(line)}\\n\")\n",
        "  file.write(f\"Number of words : {sum}\\n\")\n",
        "  file.write(f\"Number of characters : {character_sum}\\n\")\n",
        ""
      ],
      "metadata": {
        "id": "Daf5cc-fmzjB"
      },
      "execution_count": 30,
      "outputs": []
    },
    {
      "cell_type": "code",
      "source": [
        "#w + holo read plus write kore\n",
        "\n",
        "with open(\"./sample_data/read_write.txt\",\"w+\") as file:\n",
        "  file.write(\"Hello World\")\n",
        "  print(file.tell())\n",
        "  file.read()\n",
        "  file.seek(0)\n",
        "  print(file.read(5))\n",
        "  print(file.tell())\n",
        "\n",
        "  #to delete from a position we use file-trancate\n",
        "\n",
        "  file.truncate(5)\n",
        "  print(file.read())\n"
      ],
      "metadata": {
        "colab": {
          "base_uri": "https://localhost:8080/"
        },
        "id": "BbUQpgWftaUW",
        "outputId": "bd72a4cc-a196-40d3-b5f6-0bc30c8e3270"
      },
      "execution_count": 34,
      "outputs": [
        {
          "output_type": "stream",
          "name": "stdout",
          "text": [
            "11\n",
            "Hello\n",
            "5\n",
            " World\n"
          ]
        }
      ]
    },
    {
      "cell_type": "markdown",
      "source": [
        "Exception is an error that occurs on runtime"
      ],
      "metadata": {
        "id": "NAp2XeaNx7lv"
      }
    },
    {
      "cell_type": "code",
      "source": [
        "#Exception handling\n",
        "try:\n",
        "  x=y\n",
        "except Exception as e:\n",
        "  print(e)\n",
        "\n",
        "\n",
        "print(\"Hello World\")"
      ],
      "metadata": {
        "colab": {
          "base_uri": "https://localhost:8080/"
        },
        "id": "SnQ2RZHOwuVC",
        "outputId": "0b670bae-711a-4489-c9b3-5fae8c4979a1"
      },
      "execution_count": 1,
      "outputs": [
        {
          "output_type": "stream",
          "name": "stdout",
          "text": [
            "name 'y' is not defined\n",
            "Hello World\n"
          ]
        }
      ]
    },
    {
      "cell_type": "code",
      "source": [
        "#exception handling\n",
        "\n",
        "try:\n",
        "  file= open(\"./sample_data/data1.txt\",\"r\")\n",
        "\n",
        "except Exception as e:\n",
        "  print(e)\n",
        "else:\n",
        "  print(file.read())\n",
        "finally:\n",
        "  print(\"Model stopped\")"
      ],
      "metadata": {
        "colab": {
          "base_uri": "https://localhost:8080/"
        },
        "id": "YyOVc7-tZTA5",
        "outputId": "cccbaabc-d28a-4b9a-9e0a-59c38b0b4edc"
      },
      "execution_count": 13,
      "outputs": [
        {
          "output_type": "stream",
          "name": "stdout",
          "text": [
            "Hello Jami\n",
            "Model stopped\n"
          ]
        }
      ]
    },
    {
      "cell_type": "code",
      "source": [],
      "metadata": {
        "id": "CugBnOkVaNJG"
      },
      "execution_count": null,
      "outputs": []
    }
  ]
}
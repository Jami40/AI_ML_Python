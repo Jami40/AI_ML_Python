{
 "cells": [
  {
   "cell_type": "code",
   "execution_count": 1,
   "id": "8fe7a8e3-0200-495a-8410-3a749c90fc8f",
   "metadata": {},
   "outputs": [
    {
     "name": "stdout",
     "output_type": "stream",
     "text": [
      "What is your name?\n",
      "<class 'str'>\n"
     ]
    }
   ],
   "source": [
    "prompt=\"What is your name?\"\n",
    "\n",
    "print(prompt)\n",
    "\n",
    "print(type(prompt))"
   ]
  },
  {
   "cell_type": "markdown",
   "id": "8d7bf855-d18d-4ddc-93c1-56fc29aff0fc",
   "metadata": {},
   "source": [
    "### Multiple Line Print"
   ]
  },
  {
   "cell_type": "code",
   "execution_count": 5,
   "id": "737ec2fe-275d-48bc-bf99-5fba4a8fdbfd",
   "metadata": {},
   "outputs": [
    {
     "name": "stdout",
     "output_type": "stream",
     "text": [
      "Hi Jami, How are You?\n",
      "\n",
      "I am good and what about you?\n"
     ]
    }
   ],
   "source": [
    "messege='''Hi Jami, How are You?\n",
    "\n",
    "I am good and what about you?'''\n",
    "\n",
    "print(messege)\n"
   ]
  },
  {
   "cell_type": "markdown",
   "id": "9971f78d-f20e-4b04-9400-7dee06fc7e8e",
   "metadata": {},
   "source": [
    "### Indexing and Slicing"
   ]
  },
  {
   "cell_type": "code",
   "execution_count": 4,
   "id": "50e23ab5-2b8e-42f7-9fc9-04f91e8c7830",
   "metadata": {},
   "outputs": [
    {
     "name": "stdout",
     "output_type": "stream",
     "text": [
      "e\n"
     ]
    }
   ],
   "source": [
    "msg=\"Hello World\"\n",
    "print(msg[1])"
   ]
  },
  {
   "cell_type": "code",
   "execution_count": 6,
   "id": "987795ab-e3c1-45dd-ad58-cef4358a3852",
   "metadata": {},
   "outputs": [
    {
     "name": "stdout",
     "output_type": "stream",
     "text": [
      "Hi Jami, How are You?\n",
      "\n"
     ]
    }
   ],
   "source": [
    "first_messege=messege[0:22]\n",
    "print(first_messege)"
   ]
  },
  {
   "cell_type": "code",
   "execution_count": 7,
   "id": "ffa24017-7317-416b-ad58-284644b869c3",
   "metadata": {},
   "outputs": [
    {
     "name": "stdout",
     "output_type": "stream",
     "text": [
      "\n",
      "\n",
      "?\n",
      "u\n",
      "o\n",
      "Y\n",
      " \n"
     ]
    }
   ],
   "source": [
    "print(first_messege[-1])\n",
    "print(first_messege[-2])\n",
    "print(first_messege[-3])\n",
    "print(first_messege[-4])\n",
    "print(first_messege[-5])\n",
    "print(first_messege[-6])"
   ]
  },
  {
   "cell_type": "markdown",
   "id": "71050e38-7835-4089-aa91-067b4f666f3d",
   "metadata": {},
   "source": [
    "### String Method and Tools"
   ]
  },
  {
   "cell_type": "code",
   "execution_count": 16,
   "id": "e8068fb1-8a04-4e77-947c-905089977d31",
   "metadata": {},
   "outputs": [
    {
     "name": "stdout",
     "output_type": "stream",
     "text": [
      "Welcome to phitron ML course , phitron ML phitron\n",
      "Welcome to phitron ml course , phitron ml phitron\n",
      "49\n",
      "True\n",
      "11\n",
      "3\n",
      "Welcome to phitron AI\\ML course , phitron AI\\ML phitron\n"
     ]
    }
   ],
   "source": [
    "str=\"Welcome to phitron ML course , phitron ML phitron\"\n",
    "\n",
    "print(str)\n",
    "\n",
    "#Make the string in lower case\n",
    "processed=str.lower()\n",
    "\n",
    "#single word  or first word capitalize\n",
    "processed=str.capitalize()\n",
    "\n",
    "print(processed)\n",
    "\n",
    "#length of the string\n",
    "print(len(str))\n",
    "\n",
    "#Word ase Kina ->bool\n",
    "print(\"ML\" in str)\n",
    "\n",
    "#kon indx theke substring start hoice \n",
    "\n",
    "index=processed.find(\"phitron\")\n",
    "\n",
    "print(index)\n",
    "\n",
    "#Substring koibar ache oita count korar jonno\n",
    "\n",
    "count=processed.count(\"phitron\")\n",
    "\n",
    "print(count)\n",
    "\n",
    "#replace a substring so that string is immutable we can put it on another string\n",
    "\n",
    "new_str=str.replace(\"ML\",\"AI\\ML\")\n",
    "\n",
    "print(new_str)"
   ]
  },
  {
   "cell_type": "markdown",
   "id": "b27b374e-32bc-482f-b055-e917c3d8459d",
   "metadata": {},
   "source": [
    "### Spliting Joining Formating"
   ]
  },
  {
   "cell_type": "code",
   "execution_count": 22,
   "id": "bab04e1e-fa1d-4bba-adc7-c7aa3850cef8",
   "metadata": {},
   "outputs": [
    {
     "name": "stdout",
     "output_type": "stream",
     "text": [
      "['What', 'is', 'phitron?']\n",
      "What is phitron?\n"
     ]
    }
   ],
   "source": [
    "str=\"What is phitron?\"\n",
    "tokens=str.split()\n",
    "print(tokens)\n",
    "\n",
    "sentence=\" \".join(tokens)\n",
    "print(sentence)"
   ]
  },
  {
   "cell_type": "code",
   "execution_count": 24,
   "id": "55a643a3-461f-4837-96a9-cbfc40ef2e9b",
   "metadata": {},
   "outputs": [
    {
     "name": "stdout",
     "output_type": "stream",
     "text": [
      "My name is jami. I am 22 years old.My height is 5.11.\n",
      "My model is 82.33% acurrate.\n"
     ]
    }
   ],
   "source": [
    "name=\"jami\"\n",
    "age=22\n",
    "height=5.11\n",
    "\n",
    "print(f\"My name is {name}. I am {age} years old.My height is {height}.\")\n",
    "\n",
    "# For formating we can find the percentage\n",
    "\n",
    "model_accuracy =0.8233444\n",
    "\n",
    "print(f\"My model is {model_accuracy:.2%} acurrate.\")"
   ]
  },
  {
   "cell_type": "code",
   "execution_count": null,
   "id": "5af78a91-9b6b-4217-8ca3-52836cf65f42",
   "metadata": {},
   "outputs": [],
   "source": []
  }
 ],
 "metadata": {
  "kernelspec": {
   "display_name": "Python [conda env:base] *",
   "language": "python",
   "name": "conda-base-py"
  },
  "language_info": {
   "codemirror_mode": {
    "name": "ipython",
    "version": 3
   },
   "file_extension": ".py",
   "mimetype": "text/x-python",
   "name": "python",
   "nbconvert_exporter": "python",
   "pygments_lexer": "ipython3",
   "version": "3.13.5"
  }
 },
 "nbformat": 4,
 "nbformat_minor": 5
}

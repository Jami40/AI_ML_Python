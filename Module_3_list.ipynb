{
 "cells": [
  {
   "cell_type": "code",
   "execution_count": 13,
   "id": "7e275e32-b91f-4062-bc3d-47a4a28058d0",
   "metadata": {},
   "outputs": [
    {
     "name": "stdout",
     "output_type": "stream",
     "text": [
      "[[30, 24, 6.4], ['jami', 23, 12.5]]\n",
      "[12, 23, 4, 156, 234, 12, 1]\n"
     ]
    }
   ],
   "source": [
    "#decleration\n",
    "\n",
    "number=[12,23,4,156,234,12,1]\n",
    "\n",
    "list_er_modde_list=[[30,24,6.4],['jami',23,12.5]]\n",
    "\n",
    "print(list_er_modde_list)\n",
    "\n",
    "print(number)"
   ]
  },
  {
   "cell_type": "code",
   "execution_count": 5,
   "id": "3ef99988-ab49-45ac-b4aa-00b60908253c",
   "metadata": {},
   "outputs": [
    {
     "name": "stdout",
     "output_type": "stream",
     "text": [
      "122\n",
      "122\n",
      "[12, 23, 4, 122]\n"
     ]
    }
   ],
   "source": [
    "#access\n",
    "\n",
    "print(number[3])\n",
    "\n",
    "number[3]=122\n",
    "\n",
    "print(number[3])\n",
    "\n",
    "new_list=number[0:4]\n",
    "\n",
    "print(new_list)"
   ]
  },
  {
   "cell_type": "code",
   "execution_count": 12,
   "id": "eb7dde3e-332e-4149-8486-c0409dc9af16",
   "metadata": {},
   "outputs": [
    {
     "name": "stdout",
     "output_type": "stream",
     "text": [
      "[23, 35, 35, 4, 122, 234, 12, 1]\n",
      "[23, 35, 35, 4, 122, 234, 12, 1]\n",
      "[23, 35, 35, 4, 122, 234, 12, 1]\n",
      "[23, 35, 35, 4, 122, 234, 1]\n"
     ]
    }
   ],
   "source": [
    "#modification\n",
    "\n",
    "# number.append(80)\n",
    "print(number)\n",
    "\n",
    "# number.insert(2,35)\n",
    "\n",
    "print(number)\n",
    "\n",
    "# number.pop()\n",
    "\n",
    "print(number)\n",
    "\n",
    "number.remove(12)\n",
    "print(number)"
   ]
  },
  {
   "cell_type": "code",
   "execution_count": 18,
   "id": "327bca0d-50c0-4e74-afc1-d33a021c57f6",
   "metadata": {},
   "outputs": [
    {
     "name": "stdout",
     "output_type": "stream",
     "text": [
      "[1, 4, 12, 12, 23, 156, 234]\n",
      "[234, 156, 23, 12, 12, 4, 1]\n",
      "[234, 156, 23, 12, 12, 4, 1]\n"
     ]
    }
   ],
   "source": [
    "#Sort The list\n",
    "\n",
    "number.sort()\n",
    "\n",
    "print(number)\n",
    "\n",
    "number.reverse()\n",
    "print(number)\n",
    "\n",
    "number.sort(reverse=True)\n",
    "\n",
    "print(number)\n",
    "\n"
   ]
  },
  {
   "cell_type": "markdown",
   "id": "1ec8b4c7-3d7b-487a-8fc8-a234004eb162",
   "metadata": {},
   "source": [
    "### Stack as list"
   ]
  },
  {
   "cell_type": "code",
   "execution_count": 22,
   "id": "b87a60d1-cdd4-4f15-9aaf-a4cbd035f9bb",
   "metadata": {},
   "outputs": [
    {
     "name": "stdout",
     "output_type": "stream",
     "text": [
      "[1, 2, 3, 4, 5, 6]\n",
      "[1, 2, 3, 4, 5]\n"
     ]
    }
   ],
   "source": [
    "stack=[]\n",
    "\n",
    "stack.append(1)\n",
    "stack.append(2)\n",
    "stack.append(3)\n",
    "stack.append(4)\n",
    "stack.append(5)\n",
    "stack.append(6)\n",
    "\n",
    "print(stack)\n",
    "\n",
    "stack.pop()\n",
    "\n",
    "print(stack)\n",
    "\n",
    "\n",
    "# In a stack it's a last in first out it's a LIFO"
   ]
  },
  {
   "cell_type": "markdown",
   "id": "1b30f7a4-f143-43dd-98d5-dd7bb92edbe1",
   "metadata": {},
   "source": [
    "### Queue as List"
   ]
  },
  {
   "cell_type": "code",
   "execution_count": 35,
   "id": "27c5a0ba-2383-4ccc-bd40-e342e16f344d",
   "metadata": {},
   "outputs": [
    {
     "name": "stdout",
     "output_type": "stream",
     "text": [
      "[1, 2, 3, 4, 5, 6]\n",
      "[1, 2, 3, 4, 5, 6, 50]\n"
     ]
    }
   ],
   "source": [
    "queue=[]\n",
    "\n",
    "queue.append(1)\n",
    "queue.append(2)\n",
    "queue.append(3)\n",
    "queue.append(4)\n",
    "queue.append(5)\n",
    "queue.append(6)\n",
    "\n",
    "# print(queue.pop(0))\n",
    "\n",
    "print(queue)\n",
    "\n",
    "# queue.pop(1)\n",
    "# print(queue)\n",
    "\n",
    "queue.append(50)\n",
    "\n",
    "print(queue)\n",
    "\n",
    "# In a queue its a first in first out or FIFO\n"
   ]
  },
  {
   "cell_type": "markdown",
   "id": "b53269f6-ca29-4445-b760-f7121a3341a3",
   "metadata": {},
   "source": [
    "### List Comprehension"
   ]
  },
  {
   "cell_type": "code",
   "execution_count": 28,
   "id": "4231b609-90e8-40fe-a267-b335986752ea",
   "metadata": {},
   "outputs": [
    {
     "name": "stdout",
     "output_type": "stream",
     "text": [
      "[12, 14, 16, 18, 20, 22, 24, 26, 28, 30, 32, 34, 36, 38, 40, 42, 44, 46, 48, 50, 52, 54, 56, 58, 60, 62, 64, 66, 68, 70, 72, 74, 76, 78, 80, 82, 84, 86, 88, 90, 92, 94, 96, 98, 100, 102, 104, 106, 108, 110, 112, 114]\n"
     ]
    }
   ],
   "source": [
    "even=[]\n",
    "\n",
    "# naive way \n",
    "# for i in range(101):\n",
    "#     if i%2==0:\n",
    "#         even.append(i)\n",
    "# print(even)  \n",
    "\n",
    "even_list=[x+10 for x in range(1,105) if x%2==0]\n",
    "\n",
    "print(even_list)\n",
    "    "
   ]
  },
  {
   "cell_type": "code",
   "execution_count": 29,
   "id": "89a2e2fa-610d-42a1-8176-7f6dc485034b",
   "metadata": {},
   "outputs": [
    {
     "name": "stdout",
     "output_type": "stream",
     "text": [
      "['apple', 'orange', 'banana']\n"
     ]
    }
   ],
   "source": [
    "fruits=[\"Apple\",\"Orange\",\"Banana\"]\n",
    "\n",
    "fruit_shake=[fruit.lower() for fruit in fruits]\n",
    "\n",
    "print(fruit_shake)"
   ]
  },
  {
   "cell_type": "code",
   "execution_count": 30,
   "id": "5bd05a96-1f53-4689-997a-c7b730d378ad",
   "metadata": {},
   "outputs": [
    {
     "name": "stdout",
     "output_type": "stream",
     "text": [
      "2\n"
     ]
    }
   ],
   "source": [
    "text=\"banana bandana\"\n",
    "\n",
    "print(text.count(\"ana\"))"
   ]
  },
  {
   "cell_type": "code",
   "execution_count": 31,
   "id": "af393e12-b3ad-4309-8cbc-841b715e9211",
   "metadata": {},
   "outputs": [
    {
     "name": "stdout",
     "output_type": "stream",
     "text": [
      "[2, 4, 12, 8, 10]\n"
     ]
    }
   ],
   "source": [
    "nums=[2,4,6,8,10]\n",
    "\n",
    "nums[2]=nums[2]*nums[0]\n",
    "print(nums)\n"
   ]
  },
  {
   "cell_type": "code",
   "execution_count": null,
   "id": "708d89a3-97b2-4ee1-8643-4b7909bf541a",
   "metadata": {},
   "outputs": [],
   "source": []
  }
 ],
 "metadata": {
  "kernelspec": {
   "display_name": "Python [conda env:base] *",
   "language": "python",
   "name": "conda-base-py"
  },
  "language_info": {
   "codemirror_mode": {
    "name": "ipython",
    "version": 3
   },
   "file_extension": ".py",
   "mimetype": "text/x-python",
   "name": "python",
   "nbconvert_exporter": "python",
   "pygments_lexer": "ipython3",
   "version": "3.13.5"
  }
 },
 "nbformat": 4,
 "nbformat_minor": 5
}

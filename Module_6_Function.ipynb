{
 "cells": [
  {
   "cell_type": "code",
   "execution_count": 6,
   "id": "e219c609-8065-4270-abca-6589dd91c04d",
   "metadata": {},
   "outputs": [],
   "source": [
    "def greet(user):\n",
    "    print(f\"Hello {user}\")\n"
   ]
  },
  {
   "cell_type": "code",
   "execution_count": 7,
   "id": "fda440c2-9dfd-4578-98da-92a5db309111",
   "metadata": {},
   "outputs": [
    {
     "name": "stdout",
     "output_type": "stream",
     "text": [
      "Hello Jami\n"
     ]
    }
   ],
   "source": [
    "greet(\"Jami\")"
   ]
  },
  {
   "cell_type": "code",
   "execution_count": 14,
   "id": "9c236ea7-7c53-490f-8548-dbf4298ecb17",
   "metadata": {},
   "outputs": [],
   "source": [
    "def square_edition(a,b,c):\n",
    "    print(a,b,c)\n",
    "    return (a+b+c)"
   ]
  },
  {
   "cell_type": "code",
   "execution_count": 16,
   "id": "77cbbc97-9c7d-4e1b-b2e9-b4be3cce29e0",
   "metadata": {},
   "outputs": [
    {
     "name": "stdout",
     "output_type": "stream",
     "text": [
      "10 20 89\n",
      "1119\n",
      "30 10 20\n",
      "70\n"
     ]
    }
   ],
   "source": [
    "#positional argument\n",
    "value=square_edition(10,20,89)+1000\n",
    "\n",
    "print(value)\n",
    "\n",
    "#keyword argument\n",
    "ans = square_edition(b=10,c=20,a=30) + 10 \n",
    "print(ans) "
   ]
  },
  {
   "cell_type": "code",
   "execution_count": 17,
   "id": "00fafbe7-4b4c-4e1e-a2be-da2a11aca81b",
   "metadata": {},
   "outputs": [],
   "source": [
    "def square_addition(*args):\n",
    "    summation =0 \n",
    "    for i in args:\n",
    "        i = i**2 \n",
    "        summation+=i\n",
    "    return summation  "
   ]
  },
  {
   "cell_type": "code",
   "execution_count": 18,
   "id": "d24fab55-03b1-4a3f-a7f4-dd0640399566",
   "metadata": {},
   "outputs": [
    {
     "name": "stdout",
     "output_type": "stream",
     "text": [
      "5500\n"
     ]
    }
   ],
   "source": [
    "ans = square_addition(10,20,30,40,50)\n",
    "print(ans)"
   ]
  },
  {
   "cell_type": "code",
   "execution_count": 19,
   "id": "ae0c8d5e-5f36-42ed-a65d-4f8b90de1665",
   "metadata": {},
   "outputs": [],
   "source": [
    "def student(**kwargs): \n",
    "    for key,val in kwargs.items():\n",
    "        print(f\"{key} : {val}\")"
   ]
  },
  {
   "cell_type": "code",
   "execution_count": 20,
   "id": "0bae1bb8-28c1-4245-a6aa-4e42ba224c12",
   "metadata": {},
   "outputs": [
    {
     "name": "stdout",
     "output_type": "stream",
     "text": [
      "name : adil\n",
      "cls : 10\n",
      "roll : 30\n",
      "marks : 30.5\n"
     ]
    }
   ],
   "source": [
    "student(name = \"adil\" , cls =10 , roll=30 , marks = 30.5) "
   ]
  },
  {
   "cell_type": "code",
   "execution_count": 21,
   "id": "6f0c0c1d-321d-431b-960b-6652ff670870",
   "metadata": {},
   "outputs": [
    {
     "data": {
      "text/plain": [
       "int"
      ]
     },
     "execution_count": 21,
     "metadata": {},
     "output_type": "execute_result"
    }
   ],
   "source": [
    "def give_prediction():\n",
    "    return 10 \n",
    "\n",
    "type(give_prediction())"
   ]
  },
  {
   "cell_type": "code",
   "execution_count": 22,
   "id": "29c7f70e-04bc-474f-b6d4-e380cb4f533b",
   "metadata": {},
   "outputs": [
    {
     "data": {
      "text/plain": [
       "float"
      ]
     },
     "execution_count": 22,
     "metadata": {},
     "output_type": "execute_result"
    }
   ],
   "source": [
    "def give_prediction():\n",
    "    return 10.5\n",
    "\n",
    "type(give_prediction())"
   ]
  },
  {
   "cell_type": "code",
   "execution_count": 23,
   "id": "47d1dd5d-9bd9-4fa2-b463-6ee885000550",
   "metadata": {},
   "outputs": [
    {
     "data": {
      "text/plain": [
       "str"
      ]
     },
     "execution_count": 23,
     "metadata": {},
     "output_type": "execute_result"
    }
   ],
   "source": [
    "def give_prediction():\n",
    "    return \"Jami\" \n",
    "\n",
    "type(give_prediction())"
   ]
  },
  {
   "cell_type": "code",
   "execution_count": 24,
   "id": "c8f6ffe8-51fd-4576-a8a8-3b33cb0e6b8b",
   "metadata": {},
   "outputs": [
    {
     "name": "stdout",
     "output_type": "stream",
     "text": [
      "(10, 30)\n",
      "10 30\n"
     ]
    }
   ],
   "source": [
    "def give_prediction(a,b):\n",
    "\n",
    "    return a,b \n",
    "\n",
    "type(give_prediction(10,30))\n",
    "\n",
    "print(give_prediction(10,30))\n",
    "\n",
    "## unpacking \n",
    "\n",
    "x , y = give_prediction(10,30)\n",
    "\n",
    "print(x,y)"
   ]
  },
  {
   "cell_type": "code",
   "execution_count": 27,
   "id": "db0d3167-4cb5-4a1f-9053-4c7ebd5fd5fb",
   "metadata": {},
   "outputs": [
    {
     "name": "stdout",
     "output_type": "stream",
     "text": [
      "([10, 20, 30], [20, 30, 40])\n",
      "[10, 20, 30] [20, 30, 40]\n"
     ]
    }
   ],
   "source": [
    "def give_prediction():\n",
    "\n",
    "    a= [10,20,30]\n",
    "    b= [20,30,40]\n",
    "    return a,b \n",
    "\n",
    "type(give_prediction())\n",
    "\n",
    "print(give_prediction())\n",
    "\n",
    "x,y=give_prediction()\n",
    "\n",
    "print(x,y)"
   ]
  },
  {
   "cell_type": "code",
   "execution_count": 32,
   "id": "43251fb5-9313-4ceb-b917-a7b8a892d011",
   "metadata": {},
   "outputs": [
    {
     "name": "stdout",
     "output_type": "stream",
     "text": [
      "<class 'tuple'>\n",
      "{10, 20, 30}\n",
      "[100, 200, 300]\n"
     ]
    }
   ],
   "source": [
    "def give_prediction():\n",
    "\n",
    "    a= {10,20,30}\n",
    "    b = [100,200,300]\n",
    "    return a,b \n",
    "\n",
    "# type(give_prediction())\n",
    "x = give_prediction()\n",
    "\n",
    "print(type(x))\n",
    "\n",
    "for item in x:\n",
    "    print(item)"
   ]
  },
  {
   "cell_type": "code",
   "execution_count": 33,
   "id": "f81a0b93-89cf-4d85-b6e8-7bbbb055cef1",
   "metadata": {},
   "outputs": [
    {
     "name": "stdout",
     "output_type": "stream",
     "text": [
      "<class 'dict'>\n",
      "('name', 'adil')\n",
      "('addr', 'Ctg')\n"
     ]
    }
   ],
   "source": [
    "def give_prediction():\n",
    "    return { \"name\" : \"adil\" , \"addr\" : \"Ctg\"},{ \"name\" : \"abrar\" , \"addr\" : \"dhaka\"}\n",
    "\n",
    "\n",
    "x,y = give_prediction()\n",
    "\n",
    "print(type(x))\n",
    "\n",
    "for item in x.items():\n",
    "    print(item)"
   ]
  },
  {
   "cell_type": "markdown",
   "id": "e69ecd06-d983-4f8a-a8aa-1da3b5f68ef0",
   "metadata": {},
   "source": [
    "## Iterator\n"
   ]
  },
  {
   "cell_type": "code",
   "execution_count": 8,
   "id": "c63cc38c-f91a-47be-bc42-c6826e5516b4",
   "metadata": {},
   "outputs": [
    {
     "name": "stdout",
     "output_type": "stream",
     "text": [
      "<class 'set_iterator'>\n",
      "50\n",
      "20\n",
      "40\n",
      "10\n",
      "30\n",
      "50\n",
      "20\n",
      "40\n",
      "10\n",
      "30\n"
     ]
    }
   ],
   "source": [
    "sett={10,20,40,30,50}\n",
    "\n",
    "s_iter=iter(sett)\n",
    "\n",
    "print(type(s_iter))\n",
    "\n",
    "print(next(s_iter))\n",
    "print(next(s_iter))\n",
    "print(next(s_iter))\n",
    "print(next(s_iter))\n",
    "print(next(s_iter))\n",
    "\n",
    "\n",
    "for i in sett:\n",
    "    print(i)\n"
   ]
  },
  {
   "cell_type": "markdown",
   "id": "9fad82a6-c945-49f3-94de-322c4ece9908",
   "metadata": {},
   "source": [
    "## Generator"
   ]
  },
  {
   "cell_type": "code",
   "execution_count": 14,
   "id": "349bfd70-aea4-4116-8724-5cd2bcdf58f5",
   "metadata": {},
   "outputs": [
    {
     "name": "stdout",
     "output_type": "stream",
     "text": [
      "[0, 1, 2, 3, 4]\n",
      "[5, 6, 7, 8, 9]\n"
     ]
    }
   ],
   "source": [
    "lst=[ x for x in range(500) ] ## data set\n",
    "\n",
    "\n",
    "def data_loader(chunk_size,lstt):\n",
    "    for i in range(0,len(lstt),chunk_size):\n",
    "        yield lst[i:i+chunk_size]\n",
    "\n",
    "x=data_loader(5,lst)\n",
    "\n",
    "print(next(x))\n",
    "print(next(x))"
   ]
  },
  {
   "cell_type": "markdown",
   "id": "9070b971-f476-4751-ab00-3e36615cd2d1",
   "metadata": {},
   "source": [
    "## Lambda"
   ]
  },
  {
   "cell_type": "code",
   "execution_count": 15,
   "id": "f54d0973-882b-4af4-bb4e-921c6c213968",
   "metadata": {},
   "outputs": [
    {
     "name": "stdout",
     "output_type": "stream",
     "text": [
      "13\n"
     ]
    }
   ],
   "source": [
    "def square_addition(x,y):\n",
    "    return x**2+y**2\n",
    "\n",
    "sq_add=lambda x,y:x**2+y**2\n",
    "\n",
    "print(sq_add(2,3))\n",
    "    \n",
    "    "
   ]
  },
  {
   "cell_type": "code",
   "execution_count": 17,
   "id": "c6d370b8-cb58-4904-a4ee-75c3a1f9e77e",
   "metadata": {},
   "outputs": [
    {
     "name": "stdout",
     "output_type": "stream",
     "text": [
      "True\n"
     ]
    }
   ],
   "source": [
    "if_even=lambda x: x%2==0\n",
    "\n",
    "print(if_even(10))"
   ]
  },
  {
   "cell_type": "markdown",
   "id": "eb30c4b6-2af3-4b31-92f9-7635ac6a025f",
   "metadata": {},
   "source": [
    "## MAP"
   ]
  },
  {
   "cell_type": "code",
   "execution_count": 18,
   "id": "fde4458e-52c3-492f-8124-f0d80fc2c529",
   "metadata": {},
   "outputs": [
    {
     "name": "stdout",
     "output_type": "stream",
     "text": [
      "[144, 4, 9, 16, 25]\n"
     ]
    }
   ],
   "source": [
    "lst=[12,2,3,4,5]\n",
    "\n",
    "def square (x):\n",
    "    return x**2\n",
    "\n",
    "lst=list(map(square,lst))\n",
    "\n",
    "print(lst)"
   ]
  },
  {
   "cell_type": "code",
   "execution_count": 22,
   "id": "9ef36911-5b7b-4128-8b95-824ad709b024",
   "metadata": {},
   "outputs": [
    {
     "name": "stdout",
     "output_type": "stream",
     "text": [
      "H E L L O   W O R L D ,   W E L C O M E   T O   A I\n"
     ]
    }
   ],
   "source": [
    "string=\"hello world, welcome to ai\"\n",
    "\n",
    "string1=list(map(str.upper,string))\n",
    "\n",
    "string1=\" \".join(string1)\n",
    "\n",
    "print(string1)"
   ]
  },
  {
   "cell_type": "code",
   "execution_count": 24,
   "id": "7954cc6e-3a37-474b-a41c-e4902ac95ce5",
   "metadata": {},
   "outputs": [
    {
     "name": "stdout",
     "output_type": "stream",
     "text": [
      "[144, 4, 3, 16, 5]\n"
     ]
    }
   ],
   "source": [
    "lst=[12,2,3,4,5]\n",
    "\n",
    "lst=list(map( lambda x : x**2 if x%2==0 else x,lst ))\n",
    "\n",
    "\n",
    "print(lst)"
   ]
  },
  {
   "cell_type": "markdown",
   "id": "f81225cd-b314-431c-b932-33588c238231",
   "metadata": {},
   "source": [
    "## Filter"
   ]
  },
  {
   "cell_type": "code",
   "execution_count": 28,
   "id": "07573271-4eb8-4888-9af6-91f71ec872b5",
   "metadata": {},
   "outputs": [
    {
     "name": "stdout",
     "output_type": "stream",
     "text": [
      "[0, 2, 4, 6, 8, 10, 12, 14, 16, 18, 20, 22, 24, 26, 28, 30, 32, 34, 36, 38, 40, 42, 44, 46, 48, 50, 52, 54, 56, 58, 60, 62, 64, 66, 68, 70, 72, 74, 76, 78, 80, 82, 84, 86, 88, 90, 92, 94, 96, 98]\n"
     ]
    }
   ],
   "source": [
    "number=[ x for x in range(100) ]\n",
    "\n",
    "# print(number)\n",
    "\n",
    "#even\n",
    "\n",
    "\n",
    "even_number=list(filter( lambda x : x%2==0, number))\n",
    "\n",
    "print(even_number)"
   ]
  },
  {
   "cell_type": "code",
   "execution_count": 29,
   "id": "c5b18453-d1ae-4a3d-a10c-b9dcf1d2a9cd",
   "metadata": {},
   "outputs": [
    {
     "name": "stdout",
     "output_type": "stream",
     "text": [
      "[1, 'Hello', [1, 2], True]\n"
     ]
    }
   ],
   "source": [
    "# string\n",
    "\n",
    "\n",
    "data = [0, 1, '',None, 'Hello', [], [1, 2], None, True, False, None]\n",
    "\n",
    "cleaned_data=list(filter(None ,data))\n",
    "\n",
    "print(cleaned_data)"
   ]
  },
  {
   "cell_type": "code",
   "execution_count": 32,
   "id": "b9fb5a3b-1888-4046-bfd1-0a088d4b8e4b",
   "metadata": {},
   "outputs": [
    {
     "name": "stdout",
     "output_type": "stream",
     "text": [
      "e o o e o e o a i\n"
     ]
    }
   ],
   "source": [
    "string=\"hello world, welcome to ai\"\n",
    "\n",
    "\n",
    "vowel=list( filter( lambda x : x in \"aeiou\" ,string) )\n",
    "\n",
    "vowel_joint=\" \".join(vowel)\n",
    "\n",
    "print(vowel_joint)"
   ]
  },
  {
   "cell_type": "code",
   "execution_count": 33,
   "id": "ca16099f-4a30-4a96-a4e4-6b34b8252c0c",
   "metadata": {},
   "outputs": [
    {
     "name": "stdout",
     "output_type": "stream",
     "text": [
      "['aaa', 'cccc', 'ddddd']\n"
     ]
    }
   ],
   "source": [
    "fruits = [ 'aaa' , 'bb' , 'cccc' , 'ddddd' ]\n",
    "\n",
    "filtering = list(filter(lambda x: len(x)>2 , fruits))\n",
    "\n",
    "print(filtering) "
   ]
  },
  {
   "cell_type": "code",
   "execution_count": 34,
   "id": "c7af4c47-59f6-44ca-92c9-54bbfd335ddd",
   "metadata": {},
   "outputs": [],
   "source": [
    "from functools import reduce"
   ]
  },
  {
   "cell_type": "code",
   "execution_count": 35,
   "id": "a41a0f08-58fd-4b29-b8d9-8e72362e7b03",
   "metadata": {},
   "outputs": [
    {
     "name": "stdout",
     "output_type": "stream",
     "text": [
      "15\n"
     ]
    }
   ],
   "source": [
    "lst=[1,3,2,4,5]\n",
    "\n",
    "summ=reduce( lambda x,y: x+y ,lst )\n",
    "\n",
    "print(summ)"
   ]
  },
  {
   "cell_type": "code",
   "execution_count": 36,
   "id": "b5526d49-1830-4a6d-83f3-9ee03950ccbb",
   "metadata": {},
   "outputs": [
    {
     "name": "stdout",
     "output_type": "stream",
     "text": [
      "27\n"
     ]
    }
   ],
   "source": [
    "lst=[10,3,1,6,8,27,2,8,9]\n",
    "\n",
    "max_value=reduce( lambda x,y:x if x>y else y ,lst)\n",
    "\n",
    "print(max_value)"
   ]
  },
  {
   "cell_type": "code",
   "execution_count": 37,
   "id": "70aee0b9-04e2-4806-9976-4b790fff7fba",
   "metadata": {},
   "outputs": [
    {
     "name": "stdout",
     "output_type": "stream",
     "text": [
      "hello world welcome to programming\n"
     ]
    }
   ],
   "source": [
    "lst = [ \"hello\", \"world\" , \"welcome\" ,\"to\", \"programming\"]\n",
    "\n",
    "string = reduce(lambda x,y : x+ \" \" + y ,lst) \n",
    "print(string)"
   ]
  },
  {
   "cell_type": "code",
   "execution_count": 38,
   "id": "b650d214-eb44-4fef-b5c6-b0aace833bf5",
   "metadata": {},
   "outputs": [
    {
     "name": "stdout",
     "output_type": "stream",
     "text": [
      "5\n"
     ]
    }
   ],
   "source": [
    "def add(a,b=2):\n",
    "    print(a+b)\n",
    "add(3)    "
   ]
  },
  {
   "cell_type": "code",
   "execution_count": null,
   "id": "f42600f6-c557-45bb-9113-9573b2089e19",
   "metadata": {},
   "outputs": [],
   "source": []
  }
 ],
 "metadata": {
  "kernelspec": {
   "display_name": "Python [conda env:base] *",
   "language": "python",
   "name": "conda-base-py"
  },
  "language_info": {
   "codemirror_mode": {
    "name": "ipython",
    "version": 3
   },
   "file_extension": ".py",
   "mimetype": "text/x-python",
   "name": "python",
   "nbconvert_exporter": "python",
   "pygments_lexer": "ipython3",
   "version": "3.13.5"
  }
 },
 "nbformat": 4,
 "nbformat_minor": 5
}

{
  "nbformat": 4,
  "nbformat_minor": 0,
  "metadata": {
    "colab": {
      "provenance": []
    },
    "kernelspec": {
      "name": "python3",
      "display_name": "Python 3"
    },
    "language_info": {
      "name": "python"
    }
  },
  "cells": [
    {
      "cell_type": "markdown",
      "source": [
        "**Class** and **Object**"
      ],
      "metadata": {
        "id": "MSTSXs8l35Sy"
      }
    },
    {
      "cell_type": "markdown",
      "source": [],
      "metadata": {
        "id": "oJCeklm534Ej"
      }
    },
    {
      "cell_type": "code",
      "source": [
        "#base / parent-class\n",
        "class Phone:\n",
        "  category=\"Electronics\"\n",
        "\n",
        "  #Constractor\n",
        "  #In a init function it has two underscore before and after\n",
        "  def __init__(self,model,brand,price,battery_percentage=100):\n",
        "    self.model=model\n",
        "    self.brand=brand\n",
        "    self.price=price\n",
        "    self.battery_percentage=battery_percentage\n",
        "  #Method\n",
        "  def charge(self,hour):\n",
        "    # if(self.battery_percentage)<100:\n",
        "\n",
        "    #   self.battery_percentage+=hour\n",
        "    # else:\n",
        "      print(f\"Charge completed by : {hour}\")\n",
        "\n",
        "  def captured(self,photo):\n",
        "    if(self.battery_percentage)<=0:\n",
        "      print(\"Can't take photo\")\n",
        "    else:\n",
        "      self.battery_percentage-=photo\n",
        "      print(f\"Captured Photo : {self.model}\")\n",
        "class Cooling_machine:\n",
        "  def __init__(self,cooling_method):\n",
        "    self.cooling_method=cooling_method\n",
        "\n",
        "  def cooling_on(self):\n",
        "    print(f\"the system is cooling by : {self.cooling_method}\")\n"
      ],
      "metadata": {
        "id": "-NRHjvhg4DSD"
      },
      "execution_count": 36,
      "outputs": []
    },
    {
      "cell_type": "code",
      "source": [
        "apple=Phone(\"XS\",\"Iphone\",5000)\n",
        "\n",
        "bluberry=Phone(\"B4\",\"Bluuue\",6000)\n",
        "\n",
        "motorolla=Phone(\"G40\",\"helloYi\",8000)\n",
        "\n",
        "apple.captured(10)\n",
        "print(apple.battery_percentage)\n",
        "apple.charge(10)\n",
        "print(apple.battery_percentage)"
      ],
      "metadata": {
        "colab": {
          "base_uri": "https://localhost:8080/"
        },
        "id": "ga84RAH14KRE",
        "outputId": "540bc4da-36ae-4790-85e3-32c7fa174484"
      },
      "execution_count": 28,
      "outputs": [
        {
          "output_type": "stream",
          "name": "stdout",
          "text": [
            "Captured Photo : XS\n",
            "90\n",
            "Charge completed by : 10\n",
            "90\n"
          ]
        }
      ]
    },
    {
      "cell_type": "markdown",
      "source": [
        "Single Inheritance\n"
      ],
      "metadata": {
        "id": "TWkoOMpclGTy"
      }
    },
    {
      "cell_type": "code",
      "source": [
        "# child class / derived class"
      ],
      "metadata": {
        "id": "Roz1LJN64RXw"
      },
      "execution_count": null,
      "outputs": []
    },
    {
      "cell_type": "code",
      "source": [
        "class SmartPhone(Phone):\n",
        "\n",
        "  def __init__(self,model,brand,price,processor):\n",
        "    super().__init__(model,brand,price)\n",
        "    self.processor=processor\n",
        "  def charge(self,hour):\n",
        "    print(\"fast changing in process\")\n",
        "    super().charge()"
      ],
      "metadata": {
        "id": "9lvJLX8Mlb1C"
      },
      "execution_count": 33,
      "outputs": []
    },
    {
      "cell_type": "code",
      "source": [
        "proBook=SmartPhone(\"Probbok\",\"smart\",50000,\"Snapdragon\")\n",
        "\n",
        "print(proBook.brand)\n",
        "print(proBook.model)\n",
        "print(proBook.price)\n",
        "proBook.charge(9)"
      ],
      "metadata": {
        "colab": {
          "base_uri": "https://localhost:8080/"
        },
        "id": "842Wmka_mdK4",
        "outputId": "ba7fe628-8bdf-4c17-83c9-39698344ff49"
      },
      "execution_count": 34,
      "outputs": [
        {
          "output_type": "stream",
          "name": "stdout",
          "text": [
            "smart\n",
            "Probbok\n",
            "50000\n",
            "fast changing in process\n",
            "Charge completed by : 6\n"
          ]
        }
      ]
    },
    {
      "cell_type": "markdown",
      "source": [
        "Multiple Inheritance"
      ],
      "metadata": {
        "id": "EwP0Piz8wepy"
      }
    },
    {
      "cell_type": "code",
      "source": [
        "class SmartPhone_Cooling(SmartPhone,Cooling_machine):\n",
        "  def __init__(self,model,brand,price,processor,cooling_method):\n",
        "    SmartPhone.__init__(self,model,brand,price,processor)\n",
        "    Cooling_machine.__init__(self,cooling_method)\n",
        "\n",
        "    #Self call in multiple inheritance\n",
        "\n"
      ],
      "metadata": {
        "id": "5UBih0VWtg9v"
      },
      "execution_count": 39,
      "outputs": []
    },
    {
      "cell_type": "code",
      "source": [
        "cooling_phone=SmartPhone_Cooling(\"y\",\"Oppo\",90000,\"Octa core\",\"Nitrogen\")\n",
        "\n",
        "print(cooling_phone.brand)\n",
        "print(cooling_phone.model)\n",
        "print(cooling_phone.price)\n",
        "print(cooling_phone.processor)\n",
        "print(cooling_phone.cooling_method)\n",
        "cooling_phone.charge(9)\n",
        "cooling_phone.cooling_on()"
      ],
      "metadata": {
        "colab": {
          "base_uri": "https://localhost:8080/"
        },
        "id": "8NdgSuwhxw1j",
        "outputId": "3998a03c-6087-442a-ab32-917c6256a706"
      },
      "execution_count": 40,
      "outputs": [
        {
          "output_type": "stream",
          "name": "stdout",
          "text": [
            "Oppo\n",
            "y\n",
            "90000\n",
            "Octa core\n",
            "Nitrogen\n",
            "fast changing in process\n",
            "Charge completed by : 6\n",
            "the system is cooling by : Nitrogen\n"
          ]
        }
      ]
    },
    {
      "cell_type": "markdown",
      "source": [
        "Polymorphism\n"
      ],
      "metadata": {
        "id": "4CA_7Ukm6jZI"
      }
    },
    {
      "cell_type": "code",
      "source": [
        "class Camera:\n",
        "  def __init__(self,name):\n",
        "    self.name=name\n",
        "  def capture(self):\n",
        "    print(\"Photo is captured\")\n",
        ""
      ],
      "metadata": {
        "id": "h2NK44zQzArS"
      },
      "execution_count": 1,
      "outputs": []
    },
    {
      "cell_type": "code",
      "source": [
        "class Smart(Camera):\n",
        "  def __init__(self,name,resulation):\n",
        "    super().__init__(name)\n",
        "    self.resulation=resulation\n",
        "  def capture(self):\n",
        "    print(\"Smart Photo is captured\")\n",
        "\n",
        "class DSLR(Camera):\n",
        "  def __init__(self,name,resulation):\n",
        "    super().__init__(name)\n",
        "    self.resulation=resulation\n",
        "  def capture(self):\n",
        "    print(\"DSLR photo is captured\")\n",
        "class Drone(Camera):\n",
        "  def __init__(self,name,resulation):\n",
        "    super().__init__(name)\n",
        "    self.resulation=resulation\n",
        "  def capture(self):\n",
        "    print(\"Drone photo is captured\")\n",
        "\n",
        "\n",
        "smart=Smart(\"Poco\",120)\n",
        "dslr=DSLR(\"Camon\",430)\n",
        "drone=Drone(\"DJI\",100)\n",
        "\n",
        "smart.capture()\n",
        "dslr.capture()\n",
        "drone.capture()\n",
        "\n",
        "print(smart.name)\n",
        "print(smart.resulation)\n",
        "print(dslr.name)\n",
        "print(dslr.resulation)\n",
        "print(drone.name)\n",
        "print(drone.resulation)"
      ],
      "metadata": {
        "colab": {
          "base_uri": "https://localhost:8080/"
        },
        "id": "_gvuN6Rk7Elm",
        "outputId": "4aad80cc-84f4-4bc4-8832-29f409f1ac6c"
      },
      "execution_count": 5,
      "outputs": [
        {
          "output_type": "stream",
          "name": "stdout",
          "text": [
            "Smart Photo is captured\n",
            "DSLR photo is captured\n",
            "Drone photo is captured\n",
            "Poco\n",
            "120\n",
            "Camon\n",
            "430\n",
            "DJI\n",
            "100\n"
          ]
        }
      ]
    },
    {
      "cell_type": "markdown",
      "source": [
        "## Encaptulation"
      ],
      "metadata": {
        "id": "DHADV-6Z-dJH"
      }
    },
    {
      "cell_type": "code",
      "source": [
        "class Mobile:\n",
        "  def __init__(self,name,model,imei):\n",
        "    self.__name=name\n",
        "    self.model=model\n",
        "    self.__imei=imei#private imei\n",
        "  #this method give me imei\n",
        "  def get_imei(self):\n",
        "    return self.__imei\n",
        "\n",
        "  def name_gater(self):\n",
        "    return self.__name\n",
        "\n",
        "  #this method can change procted value\n",
        "  def name_setter(self,name):\n",
        "    self.__name=name\n",
        "\n",
        "\n",
        "iphone=Mobile(\"iphone\",\"xs\",\"1x23E\")\n",
        "\n",
        "print(iphone.get_imei())\n",
        "print(iphone.name_gater())\n",
        "iphone.name_setter(\"Iphone13\")\n",
        "print(iphone.name_gater())"
      ],
      "metadata": {
        "colab": {
          "base_uri": "https://localhost:8080/"
        },
        "id": "xiuEiknr8A8S",
        "outputId": "d973f439-6589-4ee3-82af-8aa419271a32"
      },
      "execution_count": 9,
      "outputs": [
        {
          "output_type": "stream",
          "name": "stdout",
          "text": [
            "1x23E\n",
            "iphone\n",
            "Iphone13\n"
          ]
        }
      ]
    },
    {
      "cell_type": "code",
      "source": [
        "from abc import ABC,abstractmethod\n",
        "\n",
        "class Telephone(ABC):\n",
        "\n",
        "  @abstractmethod\n",
        "  def make_call(self):\n",
        "    pass\n",
        "\n",
        "\n",
        "\n",
        "class Sphone(Telephone):\n",
        "  def make_call(self):\n",
        "    print(\"Making a call using SPhone\")\n",
        "\n",
        "\n",
        "\n",
        "class Iphone(Telephone):\n",
        "   def make_call(self):\n",
        "    print(\"Making a call using IPhone\")\n"
      ],
      "metadata": {
        "id": "YdXAD6oM_WAC"
      },
      "execution_count": 1,
      "outputs": []
    },
    {
      "cell_type": "code",
      "source": [
        "ip=Iphone()\n",
        "\n",
        "ip.make_call()"
      ],
      "metadata": {
        "colab": {
          "base_uri": "https://localhost:8080/"
        },
        "id": "DyvReu_c-Htr",
        "outputId": "df32f2af-cc57-4057-8d51-91aebc2d71ce"
      },
      "execution_count": 2,
      "outputs": [
        {
          "output_type": "stream",
          "name": "stdout",
          "text": [
            "Making a call using IPhone\n"
          ]
        }
      ]
    },
    {
      "cell_type": "code",
      "source": [],
      "metadata": {
        "id": "UyBnD_q_-jHa"
      },
      "execution_count": null,
      "outputs": []
    }
  ]
}
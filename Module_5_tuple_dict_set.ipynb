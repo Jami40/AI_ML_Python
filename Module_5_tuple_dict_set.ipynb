{
 "cells": [
  {
   "cell_type": "markdown",
   "id": "0b7f742a-bf0f-4a25-81b9-a2ee738b6206",
   "metadata": {},
   "source": [
    "### TUPLE"
   ]
  },
  {
   "cell_type": "code",
   "execution_count": 2,
   "id": "d0ec4547-1d85-4e1f-9384-32134b90cda5",
   "metadata": {},
   "outputs": [
    {
     "name": "stdout",
     "output_type": "stream",
     "text": [
      "<class 'tuple'> (10, 1220.2, 5, 'Jami')\n"
     ]
    }
   ],
   "source": [
    "tupple=(10,1220.20,5,\"Jami\")\n",
    "\n",
    "print(type(tupple),tupple)"
   ]
  },
  {
   "cell_type": "code",
   "execution_count": 3,
   "id": "a4d5a343-309a-44d2-b401-1d7e90a3b0f9",
   "metadata": {},
   "outputs": [
    {
     "name": "stdout",
     "output_type": "stream",
     "text": [
      "<class 'tuple'> (10, 20, 30.5)\n"
     ]
    }
   ],
   "source": [
    "list=[10,20,30.5]\n",
    "\n",
    "list1=tuple(list)\n",
    "\n",
    "print(type(list1),list1)"
   ]
  },
  {
   "cell_type": "code",
   "execution_count": 5,
   "id": "91614995-0d06-4b36-855d-6778bcd9e825",
   "metadata": {},
   "outputs": [
    {
     "name": "stdout",
     "output_type": "stream",
     "text": [
      "jami\n",
      "(10, 20.5, 'jami', 3332)\n"
     ]
    }
   ],
   "source": [
    "## Acess\n",
    "\n",
    "tupple=(10,20.5,\"jami\",3332,\"K\")\n",
    "\n",
    "print(tupple[2])\n",
    "\n",
    "\n",
    "#Slicing in Tupple\n",
    "\n",
    "print(tupple[0:4])"
   ]
  },
  {
   "cell_type": "code",
   "execution_count": 6,
   "id": "454415f7-9e98-478e-9136-6f6c465e64b4",
   "metadata": {},
   "outputs": [
    {
     "name": "stdout",
     "output_type": "stream",
     "text": [
      "[10, 100, 30, 40, 60]\n"
     ]
    },
    {
     "ename": "TypeError",
     "evalue": "'tuple' object does not support item assignment",
     "output_type": "error",
     "traceback": [
      "\u001b[1;31m---------------------------------------------------------------------------\u001b[0m",
      "\u001b[1;31mTypeError\u001b[0m                                 Traceback (most recent call last)",
      "Cell \u001b[1;32mIn[6], line 10\u001b[0m\n\u001b[0;32m      8\u001b[0m \u001b[38;5;66;03m# immutable\u001b[39;00m\n\u001b[0;32m      9\u001b[0m tup\u001b[38;5;241m=\u001b[39m ( \u001b[38;5;241m10\u001b[39m , \u001b[38;5;241m20\u001b[39m , \u001b[38;5;241m30\u001b[39m , \u001b[38;5;241m40\u001b[39m ) \n\u001b[1;32m---> 10\u001b[0m tup[\u001b[38;5;241m1\u001b[39m]\u001b[38;5;241m=\u001b[39m \u001b[38;5;241m100\u001b[39m \n\u001b[0;32m     11\u001b[0m \u001b[38;5;28mprint\u001b[39m(tup)\n",
      "\u001b[1;31mTypeError\u001b[0m: 'tuple' object does not support item assignment"
     ]
    }
   ],
   "source": [
    "# mutable\n",
    "\n",
    "lst = [ 10 , 20 , 30 , 40 ] \n",
    "lst.append(60)\n",
    "lst[1] = 100\n",
    "print(lst)\n",
    "\n",
    "# immutable\n",
    "tup= ( 10 , 20 , 30 , 40 ) \n",
    "tup[1]= 100 \n",
    "print(tup) "
   ]
  },
  {
   "cell_type": "code",
   "execution_count": 8,
   "id": "50ece815-f38c-441e-a7f6-22e2f7bc3058",
   "metadata": {},
   "outputs": [
    {
     "name": "stdout",
     "output_type": "stream",
     "text": [
      "1\n",
      "0\n"
     ]
    }
   ],
   "source": [
    "## Count and Index\n",
    "tupple=(10,30,29,330,\"jami\")\n",
    "\n",
    "print(tupple.count(10))\n",
    "\n",
    "print(tupple.index(10))"
   ]
  },
  {
   "cell_type": "markdown",
   "id": "e65e2a19-547c-49a7-b512-7cbdf8b381b6",
   "metadata": {},
   "source": [
    "### Set"
   ]
  },
  {
   "cell_type": "code",
   "execution_count": 9,
   "id": "fa5506df-0e8e-4f84-81b9-799b844e474a",
   "metadata": {},
   "outputs": [
    {
     "name": "stdout",
     "output_type": "stream",
     "text": [
      "<class 'set'> {1, 2, 3}\n"
     ]
    }
   ],
   "source": [
    "A = { 1, 2 , 3 } \n",
    "\n",
    "print(type(A) , A )"
   ]
  },
  {
   "cell_type": "code",
   "execution_count": 13,
   "id": "ed3d93c1-2bd1-4f6c-bdda-67e0f4c903df",
   "metadata": {},
   "outputs": [
    {
     "name": "stdout",
     "output_type": "stream",
     "text": [
      "<class 'list'>\n",
      "<class 'tuple'>\n",
      "<class 'dict'>\n",
      "<class 'set'>\n"
     ]
    }
   ],
   "source": [
    "## Empty Sett\n",
    "b=[]\n",
    "\n",
    "print(type(b))\n",
    "\n",
    "c=()\n",
    "\n",
    "print(type(c))\n",
    "\n",
    "d={}\n",
    "\n",
    "print(type(d))\n",
    "\n",
    "S=set()\n",
    "\n",
    "print(type(S))"
   ]
  },
  {
   "cell_type": "code",
   "execution_count": 20,
   "id": "0d776a7b-bc39-4b18-b660-5548f8304ef2",
   "metadata": {},
   "outputs": [
    {
     "name": "stdout",
     "output_type": "stream",
     "text": [
      "3 present in set\n",
      "1\n",
      "2\n",
      "4\n",
      "7\n",
      "8\n",
      "22\n"
     ]
    }
   ],
   "source": [
    "## Acessing\n",
    "S={2,4,1,7,8}\n",
    "\n",
    "if 2 in S:\n",
    "    print(\"3 present in set\")\n",
    "else:\n",
    "    print(\"No present\")\n",
    "\n",
    "\n",
    "for element in S:\n",
    "    print(element)\n",
    "sum=0\n",
    "\n",
    "\n",
    "for ele in S:\n",
    "    sum+=ele\n",
    "print(sum)    "
   ]
  },
  {
   "cell_type": "code",
   "execution_count": 28,
   "id": "bb3eafd6-9dfe-44b5-ab62-da3f2f13dc02",
   "metadata": {},
   "outputs": [
    {
     "name": "stdout",
     "output_type": "stream",
     "text": [
      "{0, 1, 2, 3, 34, 5, 20, 7}\n",
      "{2, 3, 34, 5, 20, 7}\n",
      "{2, 3, 34, 5, 7}\n"
     ]
    }
   ],
   "source": [
    "S={1,2,3,5,34,7}\n",
    "\n",
    "S.add(20)\n",
    "S.add(0)\n",
    "\n",
    "print(S)\n",
    "S.pop()\n",
    "S.pop()\n",
    "\n",
    "print(S)\n",
    "\n",
    "S.remove(20)\n",
    "\n",
    "print(S)\n"
   ]
  },
  {
   "cell_type": "markdown",
   "id": "9034f4cb-43f9-4f3c-ac95-a3907487d5a0",
   "metadata": {},
   "source": [
    "## Set Mathmethical Method"
   ]
  },
  {
   "cell_type": "code",
   "execution_count": 33,
   "id": "f23d6b3a-e9cb-4190-b9b5-8a6cbef8bb30",
   "metadata": {},
   "outputs": [
    {
     "name": "stdout",
     "output_type": "stream",
     "text": [
      "{2, 4, 7, 9, 123}\n",
      "{2, 4}\n",
      "False\n",
      "True\n"
     ]
    }
   ],
   "source": [
    "# Intersection Union \n",
    "\n",
    "a={2,4}\n",
    "\n",
    "b={2,4,123,7,9}\n",
    "\n",
    "\n",
    "print( a.union(b))\n",
    "print( a.intersection(b))\n",
    "\n",
    "print( a.isdisjoint(b))\n",
    "\n",
    "print( a.issubset(b))\n"
   ]
  },
  {
   "cell_type": "markdown",
   "id": "a2dc74eb-27f2-4d86-973a-dc53956362ac",
   "metadata": {},
   "source": [
    "## Dictionary"
   ]
  },
  {
   "cell_type": "code",
   "execution_count": 36,
   "id": "4873ab9a-27f1-411c-bee8-8cdb1b1c2f73",
   "metadata": {},
   "outputs": [
    {
     "name": "stdout",
     "output_type": "stream",
     "text": [
      "<class 'dict'>\n",
      "<class 'dict'> {'name': 'Jami', 'age': 20, 'address': 'Dhaka', 'numbers': [10, 20, 30, 40]}\n"
     ]
    }
   ],
   "source": [
    "dic={}\n",
    "\n",
    "print(type(dic))\n",
    "\n",
    "dictt={\n",
    "    \"name\":\"Jami\",\n",
    "    \"age\":20,\n",
    "    \"address\":\"Dhaka\",\n",
    "    \"numbers\":[10,20,30,40]\n",
    "}\n",
    "\n",
    "print(type(dictt),dictt)"
   ]
  },
  {
   "cell_type": "code",
   "execution_count": 40,
   "id": "c2de343a-5e78-4feb-ba67-c235bb0624e5",
   "metadata": {},
   "outputs": [
    {
     "name": "stdout",
     "output_type": "stream",
     "text": [
      "[10, 20, 30, 40]\n",
      "20\n",
      "Phitron AI/ML\n"
     ]
    }
   ],
   "source": [
    "## Access\n",
    "\n",
    "print(dictt[\"numbers\"])\n",
    "\n",
    "print(dictt.get(\"age\"))\n",
    "\n",
    "dictt[\"name\"]=\"Phitron AI/ML\"\n",
    "\n",
    "print(dictt[\"name\"])"
   ]
  },
  {
   "cell_type": "code",
   "execution_count": 1,
   "id": "5a52c001-c2e3-470a-9417-71e8a7fa0c71",
   "metadata": {},
   "outputs": [
    {
     "name": "stdout",
     "output_type": "stream",
     "text": [
      "{'name': 'Phitron', 'age': 30, 'address': 'Dhaka', 'numbers': [10, 20, 30]}\n",
      "{'name': 'Phitron', 'age': 30, 'address': 'Dhaka', 'numbers': [10, 20, 30], 'math_marks': 30}\n",
      "{'name': 'Phitron', 'age': 30, 'address': 'Dhaka', 'numbers': [10, 20, 30], 'math_marks': 30, 'english_marks': 40}\n"
     ]
    }
   ],
   "source": [
    "dic ={ \"name\" : \"Phitron\" , \"age\": 20 , \"address\" : \"Dhaka\" , \"numbers\":[10,20,30],\"age\":30}\n",
    "\n",
    "print(dic)\n",
    "dic[\"math_marks\"]= 30 \n",
    "print(dic) \n",
    "dic.update({\"english_marks\": 40}) \n",
    "\n",
    "print(dic) "
   ]
  },
  {
   "cell_type": "code",
   "execution_count": 2,
   "id": "a4dffed0-c6ed-4a4f-9a9b-c5866badfc1c",
   "metadata": {},
   "outputs": [
    {
     "name": "stdout",
     "output_type": "stream",
     "text": [
      "{'name': 'Phitron', 'age': 30, 'address': 'Dhaka', 'numbers': [10, 20, 30], 'english_marks': 40}\n"
     ]
    }
   ],
   "source": [
    "del dic[\"math_marks\"]\n",
    "print(dic) "
   ]
  },
  {
   "cell_type": "code",
   "execution_count": 3,
   "id": "dd7afd47-f3df-45a1-aee0-00c586013f7a",
   "metadata": {},
   "outputs": [
    {
     "name": "stdout",
     "output_type": "stream",
     "text": [
      "{'name': 'Phitron', 'age': 30, 'address': 'Dhaka', 'numbers': [10, 20, 30], 'english_marks': 40}\n"
     ]
    }
   ],
   "source": [
    "dic_2=dic.copy()\n",
    "print(dic_2)"
   ]
  },
  {
   "cell_type": "code",
   "execution_count": 9,
   "id": "68c0e32e-73b5-4653-857f-6b7f4e7d2e6a",
   "metadata": {},
   "outputs": [
    {
     "name": "stdout",
     "output_type": "stream",
     "text": [
      "dict_keys(['name', 'age', 'address', 'numbers'])\n",
      "dict_keys(['name', 'age', 'address', 'numbers', 'math_numebers'])\n",
      "dict_values(['Phitron', 30, 'Dhaka', [10, 20, 30], 30])\n",
      "dict_values(['Phitron', 30, 'Dhaka', [10, 20, 30], 600])\n",
      "dict_items([('name', 'Phitron'), ('age', 30), ('address', 'Dhaka'), ('numbers', [10, 20, 30]), ('math_numebers', 600)])\n"
     ]
    }
   ],
   "source": [
    "dic ={ \"name\" : \"Phitron\" , \"age\": 20 , \"address\" : \"Dhaka\" , \"numbers\":[10,20,30],\"age\":30}\n",
    "\n",
    "keys = dic.keys()\n",
    "\n",
    "print(keys)\n",
    "\n",
    "dic[\"math_numebers\"] = 30 \n",
    "\n",
    "print(keys) \n",
    "\n",
    "\n",
    "value=dic.values()\n",
    "\n",
    "print(value)\n",
    "\n",
    "dic[\"math_numebers\"] = 600 \n",
    "\n",
    "print(value)\n",
    "\n",
    "items=dic.items()\n",
    "\n",
    "print(items)\n"
   ]
  },
  {
   "cell_type": "code",
   "execution_count": 11,
   "id": "86a5a75a-c183-44b8-8a72-d39c8a456808",
   "metadata": {},
   "outputs": [
    {
     "name": "stdout",
     "output_type": "stream",
     "text": [
      "name : Phitron\n",
      "age : 30\n",
      "address : Dhaka\n",
      "numbers : [10, 20, 30]\n",
      "math_numebers : 600\n"
     ]
    }
   ],
   "source": [
    "#iteration \n",
    "\n",
    "for key,value in dic.items():\n",
    "    print(key,\":\",value)"
   ]
  },
  {
   "cell_type": "markdown",
   "id": "af150f31-a377-465f-b557-299990dbba8b",
   "metadata": {},
   "source": [
    "## Dictionary Comprehension"
   ]
  },
  {
   "cell_type": "code",
   "execution_count": 12,
   "id": "1c60f8a6-e7bf-4f01-ae5c-d71da1e13a69",
   "metadata": {},
   "outputs": [
    {
     "name": "stdout",
     "output_type": "stream",
     "text": [
      "{2: 4, 4: 16, 6: 36, 8: 64, 10: 100}\n"
     ]
    }
   ],
   "source": [
    "square={ x:x**2 for x in range(1,11) if(x%2==0) }\n",
    "\n",
    "print(square)"
   ]
  },
  {
   "cell_type": "code",
   "execution_count": 15,
   "id": "df8ee32a-34d6-4fcc-aa04-68f4b17f214b",
   "metadata": {},
   "outputs": [
    {
     "name": "stdout",
     "output_type": "stream",
     "text": [
      "{(10, 10.5): 'dhaka', (20.5, 192): 'chattogram', (101, 102): 'sylhet'}\n"
     ]
    }
   ],
   "source": [
    "Co_ordinates = [(10,10.5),(20.5,192) , ( 101,102) ]\n",
    "Locations =[\"dhaka\" , \"chattogram\" , \"sylhet\"]\n",
    "\n",
    "exact_location = {co_or : loc for co_or, loc in zip(Co_ordinates,Locations)}\n",
    "\n",
    "print(exact_location) "
   ]
  },
  {
   "cell_type": "markdown",
   "id": "d22164b0-9b7e-459c-b13a-1b2d7de6f725",
   "metadata": {},
   "source": [
    "## Problem Solving \n",
    "\n",
    "#### 1. Given a list of numbers, make a list with unique values"
   ]
  },
  {
   "cell_type": "code",
   "execution_count": 14,
   "id": "74ef2a5f-02b6-4585-af01-b62ac67f693c",
   "metadata": {},
   "outputs": [
    {
     "name": "stdout",
     "output_type": "stream",
     "text": [
      "[10, 20, 50, 30]\n"
     ]
    }
   ],
   "source": [
    "lst = [10 , 20 , 10 , 30 , 30 , 50 , 30 , 10 , 20 , 10 , 10 ]\n",
    "\n",
    "unique_value=set(lst)\n",
    "\n",
    "listt=list(unique_value)\n",
    "\n",
    "print(listt)"
   ]
  },
  {
   "cell_type": "markdown",
   "id": "57690312-1e7e-4224-a7ba-ad8bb008536f",
   "metadata": {},
   "source": [
    "#### 2. Given a string , print the frequency of the words"
   ]
  },
  {
   "cell_type": "code",
   "execution_count": 18,
   "id": "c3cd5ddc-5f9e-4894-8633-85253cd69e7a",
   "metadata": {},
   "outputs": [
    {
     "name": "stdout",
     "output_type": "stream",
     "text": [
      "Count for data is 9\n",
      "Count for science is 1\n",
      "Count for machine is 3\n",
      "Count for learning is 2\n",
      "Count for analysis is 1\n",
      "Count for statistics is 1\n",
      "Count for models is 2\n",
      "Count for training is 1\n",
      "Count for validation is 2\n",
      "Count for features is 2\n",
      "Count for labels is 1\n",
      "Count for preprocessing is 1\n",
      "Count for augmentation is 1\n",
      "Count for optimization is 1\n",
      "Count for gradient is 1\n",
      "Count for descent is 1\n",
      "Count for neural is 1\n",
      "Count for networks is 1\n",
      "Count for tensors is 1\n",
      "Count for matrices is 1\n",
      "Count for visualization is 1\n",
      "Count for exploration is 1\n",
      "Count for pandas is 1\n",
      "Count for numpy is 1\n",
      "Count for matplotlib is 1\n",
      "Count for seaborn is 1\n",
      "Count for scikitlearn is 1\n",
      "Count for tensorflow is 1\n",
      "Count for pytorch is 1\n",
      "Count for deployment is 1\n",
      "Count for inference is 1\n",
      "Count for production is 1\n",
      "Count for monitoring is 1\n",
      "Count for reproducibility is 1\n",
      "Count for experiments is 1\n",
      "Count for results is 1\n",
      "Count for metrics is 1\n",
      "Count for accuracy is 1\n",
      "Count for precision is 1\n",
      "Count for recall is 1\n",
      "Count for f1 is 1\n",
      "Count for cross is 1\n"
     ]
    }
   ],
   "source": [
    "string = \"\"\"data science machine learning data analysis machine \n",
    "learning statistics data models data training data validation features\n",
    "features labels preprocessing data augmentation models data optimization \n",
    "gradient descent neural networks data tensors matrices visualization \n",
    "exploration pandas numpy matplotlib seaborn scikitlearn tensorflow pytorch \n",
    "deployment inference production monitoring reproducibility experiments results \n",
    "metrics accuracy precision recall f1 cross validation data machine\n",
    "\"\"\"\n",
    "\n",
    "\n",
    "words=string.split()\n",
    "\n",
    "count={}\n",
    "\n",
    "for word in words:\n",
    "    count[word]=count.get(word,0) +1\n",
    "\n",
    "\n",
    "for k,v in count.items():\n",
    "    print(f\"Count for {k} is {v}\")"
   ]
  },
  {
   "cell_type": "code",
   "execution_count": null,
   "id": "c9270ec5-dc54-4d63-a1d2-199084b2055e",
   "metadata": {},
   "outputs": [],
   "source": []
  }
 ],
 "metadata": {
  "kernelspec": {
   "display_name": "Python [conda env:base] *",
   "language": "python",
   "name": "conda-base-py"
  },
  "language_info": {
   "codemirror_mode": {
    "name": "ipython",
    "version": 3
   },
   "file_extension": ".py",
   "mimetype": "text/x-python",
   "name": "python",
   "nbconvert_exporter": "python",
   "pygments_lexer": "ipython3",
   "version": "3.13.5"
  }
 },
 "nbformat": 4,
 "nbformat_minor": 5
}

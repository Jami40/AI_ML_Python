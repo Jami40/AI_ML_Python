{
 "cells": [
  {
   "cell_type": "markdown",
   "id": "0b7f742a-bf0f-4a25-81b9-a2ee738b6206",
   "metadata": {},
   "source": [
    "### TUPLE"
   ]
  },
  {
   "cell_type": "code",
   "execution_count": 2,
   "id": "d0ec4547-1d85-4e1f-9384-32134b90cda5",
   "metadata": {},
   "outputs": [
    {
     "name": "stdout",
     "output_type": "stream",
     "text": [
      "<class 'tuple'> (10, 1220.2, 5, 'Jami')\n"
     ]
    }
   ],
   "source": [
    "tupple=(10,1220.20,5,\"Jami\")\n",
    "\n",
    "print(type(tupple),tupple)"
   ]
  },
  {
   "cell_type": "code",
   "execution_count": 3,
   "id": "a4d5a343-309a-44d2-b401-1d7e90a3b0f9",
   "metadata": {},
   "outputs": [
    {
     "name": "stdout",
     "output_type": "stream",
     "text": [
      "<class 'tuple'> (10, 20, 30.5)\n"
     ]
    }
   ],
   "source": [
    "list=[10,20,30.5]\n",
    "\n",
    "list1=tuple(list)\n",
    "\n",
    "print(type(list1),list1)"
   ]
  },
  {
   "cell_type": "code",
   "execution_count": 5,
   "id": "91614995-0d06-4b36-855d-6778bcd9e825",
   "metadata": {},
   "outputs": [
    {
     "name": "stdout",
     "output_type": "stream",
     "text": [
      "jami\n",
      "(10, 20.5, 'jami', 3332)\n"
     ]
    }
   ],
   "source": [
    "## Acess\n",
    "\n",
    "tupple=(10,20.5,\"jami\",3332,\"K\")\n",
    "\n",
    "print(tupple[2])\n",
    "\n",
    "\n",
    "#Slicing in Tupple\n",
    "\n",
    "print(tupple[0:4])"
   ]
  },
  {
   "cell_type": "code",
   "execution_count": 6,
   "id": "454415f7-9e98-478e-9136-6f6c465e64b4",
   "metadata": {},
   "outputs": [
    {
     "name": "stdout",
     "output_type": "stream",
     "text": [
      "[10, 100, 30, 40, 60]\n"
     ]
    },
    {
     "ename": "TypeError",
     "evalue": "'tuple' object does not support item assignment",
     "output_type": "error",
     "traceback": [
      "\u001b[1;31m---------------------------------------------------------------------------\u001b[0m",
      "\u001b[1;31mTypeError\u001b[0m                                 Traceback (most recent call last)",
      "Cell \u001b[1;32mIn[6], line 10\u001b[0m\n\u001b[0;32m      8\u001b[0m \u001b[38;5;66;03m# immutable\u001b[39;00m\n\u001b[0;32m      9\u001b[0m tup\u001b[38;5;241m=\u001b[39m ( \u001b[38;5;241m10\u001b[39m , \u001b[38;5;241m20\u001b[39m , \u001b[38;5;241m30\u001b[39m , \u001b[38;5;241m40\u001b[39m ) \n\u001b[1;32m---> 10\u001b[0m tup[\u001b[38;5;241m1\u001b[39m]\u001b[38;5;241m=\u001b[39m \u001b[38;5;241m100\u001b[39m \n\u001b[0;32m     11\u001b[0m \u001b[38;5;28mprint\u001b[39m(tup)\n",
      "\u001b[1;31mTypeError\u001b[0m: 'tuple' object does not support item assignment"
     ]
    }
   ],
   "source": [
    "# mutable\n",
    "\n",
    "lst = [ 10 , 20 , 30 , 40 ] \n",
    "lst.append(60)\n",
    "lst[1] = 100\n",
    "print(lst)\n",
    "\n",
    "# immutable\n",
    "tup= ( 10 , 20 , 30 , 40 ) \n",
    "tup[1]= 100 \n",
    "print(tup) "
   ]
  },
  {
   "cell_type": "code",
   "execution_count": 8,
   "id": "50ece815-f38c-441e-a7f6-22e2f7bc3058",
   "metadata": {},
   "outputs": [
    {
     "name": "stdout",
     "output_type": "stream",
     "text": [
      "1\n",
      "0\n"
     ]
    }
   ],
   "source": [
    "## Count and Index\n",
    "tupple=(10,30,29,330,\"jami\")\n",
    "\n",
    "print(tupple.count(10))\n",
    "\n",
    "print(tupple.index(10))"
   ]
  },
  {
   "cell_type": "code",
   "execution_count": null,
   "id": "f84afe84-1fe3-4368-a45a-91ee23e242fd",
   "metadata": {},
   "outputs": [],
   "source": []
  }
 ],
 "metadata": {
  "kernelspec": {
   "display_name": "Python [conda env:base] *",
   "language": "python",
   "name": "conda-base-py"
  },
  "language_info": {
   "codemirror_mode": {
    "name": "ipython",
    "version": 3
   },
   "file_extension": ".py",
   "mimetype": "text/x-python",
   "name": "python",
   "nbconvert_exporter": "python",
   "pygments_lexer": "ipython3",
   "version": "3.13.5"
  }
 },
 "nbformat": 4,
 "nbformat_minor": 5
}
